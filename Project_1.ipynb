{
 "cells": [
  {
   "cell_type": "markdown",
   "metadata": {
    "id": "Cb_IWF6UQRGk"
   },
   "source": [
    "# Project 1 - Supervised learning\n"
   ]
  },
  {
   "cell_type": "markdown",
   "metadata": {
    "id": "yTeLZnrzE0Wy"
   },
   "source": [
    "# Outline\n",
    "\n",
    "\n",
    "- [Task 1](#task-1): Regression <a name=\"index-task-1\"></a>\n",
    "  - [(1.1)](#task-11) Random Forest <a name=\"index-task-11\"></a>\n",
    "    - [(1.1.1)](#task-111) <a name=\"index-task-111\"></a>\n",
    "    - [(1.1.2)](#task-112) <a name=\"index-task-112\"></a>\n",
    "    - [(1.1.3)](#task-113) <a name=\"index-task-113\"></a>\n",
    "  - [(1.2)](#task-12) Multi-layer Perceptron <a name=\"index-task-12\"></a>\n",
    "    - [(1.2.1)](#task-121) <a name=\"index-task-121\"></a>\n",
    "    - [(1.2.2)](#task-122) <a name=\"index-task-122\"></a>\n",
    "    - [(1.2.3)](#task-123) <a name=\"index-task-123\"></a>\n",
    "- [Task 2](#task-2): Classification <a name=\"index-task-2\"></a>\n",
    "  - [(2.1)](#task-21) k-Nearest Neighbours <a name=\"index-task-21\"></a>\n",
    "    - [(2.1.1)](#task-211)  <a name=\"index-task-211\"></a>\n",
    "    - [(2.1.2)](#task-212) <a name=\"index-task-212\"></a>\n",
    "    - [(2.1.3)](#task-213) <a name=\"index-task-213\"></a>\n",
    "  - [(2.2)](#task-22) Logistic regression vs kernel logistic regression <a name=\"index-task-22\"></a>\n",
    "    - [(2.2.1)](#task-221) <a name=\"index-task-221\"></a>\n",
    "    - [(2.2.2)](#task-222) <a name=\"index-task-222\"></a>\n",
    "    - [(2.2.3)](#task-223) <a name=\"index-task-223\"></a>"
   ]
  },
  {
   "cell_type": "markdown",
   "metadata": {
    "id": "V4LmL6R9N1B-"
   },
   "source": [
    "\n",
    "\n",
    "---\n",
    "\n"
   ]
  },
  {
   "cell_type": "code",
   "execution_count": 1,
   "metadata": {},
   "outputs": [],
   "source": [
    "# import\n",
    "import numpy as np\n",
    "import matplotlib.pyplot as plt\n",
    "from collections import defaultdict\n",
    "from tqdm.notebook import tqdm\n",
    "import pandas as pd"
   ]
  },
  {
   "cell_type": "markdown",
   "metadata": {
    "id": "0_QE32lOMff_"
   },
   "source": [
    "<a name=\"task-1\"></a>\n",
    "\n",
    "# (1) Task 1: Regression [(index)](#index-task-1)"
   ]
  },
  {
   "cell_type": "code",
   "execution_count": 2,
   "metadata": {},
   "outputs": [
    {
     "name": "stdout",
     "output_type": "stream",
     "text": [
      "(558, 13)\n"
     ]
    }
   ],
   "source": [
    "# Read data\n",
    "nano_data = pd.read_csv('./nanoelectrodes_capacitance_samples.csv')\n",
    "nano_data_test = pd.read_csv('./nanoelectrodes_capacitance_test.csv')\n",
    "\n",
    "\n",
    "# Move Capacitance to the last column as this is the feature we wish to work with \n",
    "moved_column = nano_data.pop('Capacitance ($\\mu F / cm^2$)')\n",
    "nano_data.insert(len(nano_data.columns),'Capacitance ($\\mu F / cm^2$)', moved_column)\n",
    "\n",
    "moved_column_test = nano_data_test.pop('Capacitance ($\\mu F / cm^2$)')\n",
    "nano_data_test.insert(len(nano_data_test.columns),'Capacitance ($\\mu F / cm^2$)', moved_column_test)\n",
    "\n",
    "\n",
    "# Check data\n",
    "print(nano_data.shape)\n",
    "nano_data.tail(10)\n",
    "\n",
    "# Define a dataframe of features and a vector of our regression variable\n",
    "X_nano = nano_data[nano_data.columns[:-1]]\n",
    "y_nano = nano_data[nano_data.columns[-1]]\n",
    "\n",
    "# Define a dataframe of features and a vector of our regression variable\n",
    "X_nano_test = nano_data_test[nano_data_test.columns[:-1]]\n",
    "y_nano_test = nano_data_test[nano_data_test.columns[-1]]\n",
    "\n",
    "# Define a numpy array corresponding to X_nano and y_nano\n",
    "X_nano_arr = X_nano.to_numpy()\n",
    "y_nano_arr = y_nano.to_numpy()\n",
    "\n",
    "columns_dict = {index: False for index in range(X_nano.shape[1])}"
   ]
  },
  {
   "cell_type": "code",
   "execution_count": 3,
   "metadata": {},
   "outputs": [],
   "source": [
    "def mse(a,b):\n",
    "\n",
    "    return np.mean((a-b)**2)"
   ]
  },
  {
   "cell_type": "markdown",
   "metadata": {
    "id": "DLl66QsJMfzc"
   },
   "source": [
    "<a name=\"task-11\"></a>\n",
    "\n",
    "## (1.1) Random Forest [(index)](#index-task-11)"
   ]
  },
  {
   "cell_type": "markdown",
   "metadata": {},
   "source": [
    "First we define a standardise function to utilise throughout our coursework"
   ]
  },
  {
   "cell_type": "code",
   "execution_count": 4,
   "metadata": {},
   "outputs": [],
   "source": [
    "def standardise(X, X_train_=None):\n",
    "    \"\"\"Standardise features.\n",
    "\n",
    "    Parameters:\n",
    "        X (np.array): Feature matrix.\n",
    "        X_train_ (np.array): An optional feature matrix to compute the statistics\n",
    "            from before applying it to X. If None, just use X to compute the statistics.\n",
    "\n",
    "    Returns:\n",
    "        X_std (np.array): Standardised feature matrix\n",
    "    \"\"\"\n",
    "    if X_train_ is None:\n",
    "        X_train_ = X\n",
    "\n",
    "    mu = np.mean(X_train_, axis=0) ## <-- SOLUTION\n",
    "    sigma = np.std(X_train_, axis=0) ## <-- SOLUTION\n",
    "    X_std = (X - mu) / sigma ## <-- SOLUTION\n",
    "    return X_std"
   ]
  },
  {
   "cell_type": "markdown",
   "metadata": {
    "id": "T47skSuUMf8M"
   },
   "source": [
    "<a name=\"task-111\"></a>\n",
    "\n",
    "### (1.1.1) [(index)](#index-task-111)"
   ]
  },
  {
   "cell_type": "markdown",
   "metadata": {},
   "source": [
    "Define a Cost function"
   ]
  },
  {
   "cell_type": "code",
   "execution_count": 5,
   "metadata": {},
   "outputs": [],
   "source": [
    "# Cost function\n",
    "def cost(y,weights):\n",
    "    \"\"\"\n",
    "    Calculate the Cost - Residual Sum of Squares\n",
    "    Arguments:\n",
    "        y: vector of training labels, of shape (N,).\n",
    "        sample_weights: weights for each samples, of shape (N,).\n",
    "    Returns:\n",
    "        (float): the RSS for y\n",
    "    \"\"\"\n",
    "    ymean = np.mean(y)\n",
    "\n",
    "    cost = np.sum((y - ymean)**2)\n",
    "\n",
    "    return cost"
   ]
  },
  {
   "cell_type": "markdown",
   "metadata": {},
   "source": [
    "Define a function that splits samples"
   ]
  },
  {
   "cell_type": "code",
   "execution_count": 6,
   "metadata": {},
   "outputs": [],
   "source": [
    "def split_samples(X, y, sample_weights, column, value, categorical):\n",
    "    \"\"\"\n",
    "    Return the split of data whose column-th feature:\n",
    "      1. equals value, in case `column` is categorical, or\n",
    "      2. less than value, in case `column` is not categorical (i.e. numerical)\n",
    "\n",
    "    Arguments:\n",
    "        X: training features, of shape (N, p).\n",
    "        y: vector of training labels, of shape (N,).\n",
    "        sample_weights: weights for each samples, of shape (N,).\n",
    "        column: the column of the feature for splitting.\n",
    "        value: splitting threshold  the samples\n",
    "        categorical: boolean value indicating whether column is a categorical variable or numerical.\n",
    "    Returns:\n",
    "        tuple(np.array, np.array): tuple of subsets of X splitted based on column-th value.\n",
    "        tuple(np.array, np.array): tuple of subsets of y splitted based on column-th value.\n",
    "        tuple(np.array, np.array): tuple of subsets of sample weights based on column-th value.\n",
    "    \"\"\"\n",
    "\n",
    "    # basically determines if we are considering classes or a continuous spectrum\n",
    "    if categorical:\n",
    "        left_mask =(X[:, column] == value)                      # a truth array determining if the X_values in the column are equal to the specified value\n",
    "    else:\n",
    "        left_mask = (X[:, column] < value)                      # a truth array determining if the X_values in the column are less than the specified value\n",
    "\n",
    "    # Using the binary masks `left_mask`, we split X, y, and sample_weights.\n",
    "             # ~ gives the bitwise complement therefore here it changes 0 to 1 and 1 to 0\n",
    "        \n",
    "        # here X_l returns all the rows (samples) where the condition is met\n",
    "        # and X_r returns all the rows (samples) where the condition isn't met\n",
    "    X_l, y_l, w_l = X[left_mask,:], y[left_mask], sample_weights[left_mask] \n",
    "    X_r, y_r, w_r = X[~left_mask, :], y[~left_mask], sample_weights[~left_mask]\n",
    "\n",
    "    return (X_l, y_l, w_l), (X_r, y_r, w_r)"
   ]
  },
  {
   "cell_type": "markdown",
   "metadata": {},
   "source": [
    "Define a function that calculates the best threshold for splitting "
   ]
  },
  {
   "cell_type": "code",
   "execution_count": 7,
   "metadata": {},
   "outputs": [],
   "source": [
    "# A function that calculates the best s to use for the threshold / predicate so we shall loop over the unique values in the specified column and calculate the associated cost value\n",
    "    # If the cost is lower than the current lowest saved cost, we use this new value and associated cost as our new optimal pair.\n",
    "def cost_split_value(X, y, sample_weights, column, categorical):\n",
    "    \"\"\"\n",
    "    Calculate the cost based on `column` with the split that minimizes the GINI-index.\n",
    "    Arguments:\n",
    "        X: training features, of shape (N, p).\n",
    "        y: vector of training labels, of shape (N,).\n",
    "        sample_weights: weights for each samples, of shape (N,).\n",
    "        column: the column of the feature for calculating. 0 <= column < D\n",
    "        categorical: boolean value indicating whether column is a categorical variable or numerical.\n",
    "    Returns:\n",
    "        (float, float): the resulted GINI-index and the corresponding value used in splitting.\n",
    "    \"\"\"\n",
    "    # compiles the unique values that are found from the different points when looking at the parameter associated with the specific column\n",
    "    unique_vals = np.unique(X[:, column])\n",
    "\n",
    "    assert len(unique_vals) > 1, f\"There must be more than one distinct feature value. Given: {unique_vals}.\"\n",
    "\n",
    "\n",
    "    # initialise \n",
    "    cost_val, threshold = np.inf, None\n",
    "\n",
    "    # split the values of i-th feature and calculate the cost\n",
    "    for value in unique_vals:\n",
    "        (X_l, y_l, w_l), (X_r, y_r, w_r) = split_samples(X, y, sample_weights, column, value, categorical)\n",
    "\n",
    "        # if one of the two sides is empty, skip this split.\n",
    "        if len(y_l) == 0 or len(y_r) == 0:\n",
    "            continue\n",
    "        \n",
    "\n",
    "        # the cost value sum of the costs of the splits - want to minimise this as we want to minise the overall cost\n",
    "        new_cost = cost(y_l, w_l) +  cost(y_r, w_r)\n",
    "\n",
    "        # replace the 'optimal values' if the new values are lower - as we are searching for a minimiser\n",
    "        if new_cost < cost_val:\n",
    "              cost_val, threshold = new_cost, value\n",
    "\n",
    "    return cost_val, threshold"
   ]
  },
  {
   "cell_type": "markdown",
   "metadata": {},
   "source": [
    "Define a function that calculates the best feature to split along"
   ]
  },
  {
   "cell_type": "code",
   "execution_count": 8,
   "metadata": {},
   "outputs": [],
   "source": [
    "def cost_split(n_features, X, y, sample_weights, columns_dict):\n",
    "    \"\"\"\n",
    "    Choose the best feature to split according to criterion.\n",
    "    Args:\n",
    "        n_features: number of sampled features.\n",
    "        X: training features, of shape (N, p).\n",
    "        y: vector of training labels, of shape (N,).\n",
    "        sample_weights: weights for each samples, of shape (N,).\n",
    "        columns_dict: a dictionary mapping column indices to whether the column is categorical or numerical variable.\n",
    "    Returns:\n",
    "        (float, int, float): the minimized cost, the best feature index, value used in splitting.\n",
    "    \"\"\"\n",
    "\n",
    "    # The added sampling step.\n",
    "    columns = np.random.choice(list(columns_dict.keys()), n_features, replace=False)\n",
    "    columns_dict = {c: columns_dict[c] for c in columns}\n",
    "\n",
    "    min_cost_index, split_column, split_val = np.inf, 0, 0\n",
    "\n",
    "    # Only scan through the sampled columns in `columns_dict`.\n",
    "    for column, categorical in columns_dict.items():\n",
    "        # skip column if samples are not seperable by that column.\n",
    "        if len(np.unique(X[:, column])) < 2:\n",
    "            continue\n",
    "\n",
    "        # search for the best splitting value for the given column.\n",
    "        cost_index, val = cost_split_value(X, y, sample_weights, column, categorical) \n",
    "        if cost_index < min_cost_index:\n",
    "            min_cost_index, split_column, split_val = cost_index, column, val\n",
    "\n",
    "\n",
    "\n",
    "    return min_cost_index, split_column, split_val"
   ]
  },
  {
   "cell_type": "code",
   "execution_count": 9,
   "metadata": {},
   "outputs": [],
   "source": [
    "def cost_split_rf(n_features, X, y, sample_weights, columns_dict):\n",
    "    \"\"\"\n",
    "    Choose the best feature to split according to criterion.\n",
    "    Args:\n",
    "        n_features: number of sampled features.\n",
    "        X: training features, of shape (N, p).\n",
    "        y: vector of training labels, of shape (N,).\n",
    "        sample_weights: weights for each samples, of shape (N,).\n",
    "        columns_dict: a dictionary mapping column indices to whether the column is categorical or numerical variable.\n",
    "    Returns:\n",
    "        (float, int, float): the minimized cost, the best feature index, value used in splitting.\n",
    "    \"\"\"\n",
    "\n",
    "    # The added sampling step.\n",
    "    columns = np.random.choice(list(columns_dict.keys()), n_features, replace=False)\n",
    "    columns_dict = {c: columns_dict[c] for c in columns}\n",
    "\n",
    "    min_cost_index, split_column, split_val = np.inf, 0, 0\n",
    "\n",
    "    # Only scan through the sampled columns in `columns_dict`.\n",
    "    for column, categorical in columns_dict.items():\n",
    "        # skip column if samples are not seperable by that column.\n",
    "        if len(np.unique(X[:, column])) < 2:\n",
    "            continue\n",
    "\n",
    "        # search for the best splitting value for the given column.\n",
    "        cost_index, val = cost_split_value(X, y, sample_weights, column, categorical) \n",
    "        if cost_index < min_cost_index:\n",
    "            min_cost_index, split_column, split_val = cost_index, column, val\n",
    "\n",
    "\n",
    "\n",
    "    return min_cost_index, split_column, split_val"
   ]
  },
  {
   "cell_type": "markdown",
   "metadata": {},
   "source": [
    "Define a function that builds our decision tree"
   ]
  },
  {
   "cell_type": "code",
   "execution_count": 10,
   "metadata": {},
   "outputs": [],
   "source": [
    "def build_tree(n_features, X, y, sample_weights, columns_dict, feature_names, depth, sample = None,  max_depth=10, min_samples_leaf=10):\n",
    "    \"\"\"Build the decision tree according to the data.\n",
    "    Args:\n",
    "        n_features: number of predictors taken into account at each split in the tree\n",
    "        X: (np.array) training features, of shape (N, p).\n",
    "        y: (np.array) vector of training labels, of shape (N,).\n",
    "        sample_weights: weights for each samples, of shape (N,).\n",
    "        columns_dict: a dictionary mapping column indices to whether the column is categorical or numerical variable.\n",
    "        feature_names (list): record the name of features in X in the original dataset.\n",
    "        depth (int): current depth for this node.\n",
    "    Returns:\n",
    "        (dict): a dict denoting the decision tree (binary-tree). Each node has seven attributes:\n",
    "          1. 'feature_name': The column name of the split.\n",
    "          2. 'feature_index': The column index of the split.\n",
    "          3. 'value': The value used for the split.\n",
    "          4. 'categorical': indicator for categorical/numerical variables.\n",
    "          5. 'majority_label': For leaf nodes, this stores the dominant label. Otherwise, it is None.\n",
    "          6. 'left': The left sub-tree with the same structure.\n",
    "          7. 'right' The right sub-tree with the same structure.\n",
    "    \"\"\"\n",
    "    # include a clause for the cases where (i) all lables are the same, (ii) depth exceed (iii) X is too small\n",
    "    if len(np.unique(y)) == 1 or depth>=max_depth or len(X)<=min_samples_leaf:\n",
    "        return {'majority_label': np.mean(y)}                                                                       #######################################################################################################\n",
    "\n",
    "    else:\n",
    "        cost, split_column, split_val = cost_split(n_features, X, y, sample_weights, columns_dict)   \n",
    "\n",
    "        # If cost is infinity, it means that samples are not seperable by the sampled features.\n",
    "        if cost == np.inf:\n",
    "            return {'majority_label': np.mean(y)}                                                                   #############################################################################################################                             \n",
    "        categorical = columns_dict[split_column]\n",
    "        (X_l, y_l, w_l), (X_r, y_r, w_r) = split_samples(X, y, sample_weights, split_column, split_val, categorical)\n",
    "        return {\n",
    "            'feature_name': 0, #feature_names[split_column],\n",
    "            'feature_index': split_column,\n",
    "            'value': split_val,\n",
    "            'categorical': categorical,\n",
    "            'majority_label': None,\n",
    "            'left': build_tree(n_features, X_l, y_l, w_l, columns_dict, feature_names, depth + 1, max_depth, min_samples_leaf),\n",
    "            'right': build_tree(n_features, X_r, y_r, w_r, columns_dict, feature_names, depth + 1, max_depth, min_samples_leaf),\n",
    "            'sample': sample\n",
    "        }"
   ]
  },
  {
   "cell_type": "markdown",
   "metadata": {},
   "source": [
    "Define a function that Builds a Decision Tree using the appropriate inputs"
   ]
  },
  {
   "cell_type": "code",
   "execution_count": 11,
   "metadata": {},
   "outputs": [],
   "source": [
    "# A wrapper function that allows us to input the appropriate arguements and use the build_tree function that we've defined\n",
    "def train(B, n_features, X, y,  columns_dict, sample_weights=None, depth=1, max_depth=10, min_samples_leaf=10):\n",
    "    \"\"\"\n",
    "    Build the decision tree according to the training data.\n",
    "    Args:\n",
    "        X: (pd.Dataframe) training features, of shape (N, p). Each X[i] is a training sample.\n",
    "        y: (pd.Series) vector of training labels, of shape (N,). y[i] is the label for X[i], and each y[i] is\n",
    "        an integer in the range 0 <= y[i] <= C. Here C = 1.\n",
    "        columns_dict: a dictionary mapping column indices to whether the column is categorical or numerical variable.\n",
    "        sample_weights: weights for each samples, of shape (N,).\n",
    "    \"\"\"\n",
    "    # Normalise weights\n",
    "    if sample_weights is None:\n",
    "        # if no given sample weights we assume they have equal weighting\n",
    "        sample_weights = np.ones(X.shape[0]) / X.shape[0]\n",
    "    else:\n",
    "        # normalise weights\n",
    "        sample_weights = np.array(sample_weights) / np.sum(sample_weights)\n",
    "    \n",
    "    feature_names = 0# X.columns.tolist() \n",
    "    try:\n",
    "        X = X.to_numpy()\n",
    "        y = y.to_numpy()\n",
    "    except:\n",
    "        pass\n",
    "    return build_tree(n_features, X, y, sample_weights,\n",
    "                             columns_dict, feature_names, depth, None, max_depth, min_samples_leaf)"
   ]
  },
  {
   "cell_type": "markdown",
   "metadata": {},
   "source": [
    "Define a function that predicts a y value for a data point given a Decision tree"
   ]
  },
  {
   "cell_type": "code",
   "execution_count": 12,
   "metadata": {},
   "outputs": [],
   "source": [
    "# Since we are using regression we will be outputting the last case given below\n",
    "def classify(tree, x):\n",
    "    \"\"\"\n",
    "    Classify a single sample with the fitted decision tree.\n",
    "    Args:\n",
    "        x: ((pd.Dataframe) a single sample features, of shape (D,).\n",
    "    Returns:\n",
    "        (int): predicted testing sample label.\n",
    "    \"\"\"\n",
    "    \n",
    "    # To account for the edge cases in our tree function\n",
    "    if tree['majority_label'] is not None:\n",
    "        return tree['majority_label']\n",
    "\n",
    "    # Consider the case where our tree is determining the CLASS\n",
    "    elif tree['categorical']:\n",
    "        if x[tree['feature_index']] == tree['value']:\n",
    "            # go to left branch\n",
    "            return classify(tree['left'], x)\n",
    "        else:\n",
    "            # go to right branch\n",
    "            return classify(tree['right'], x)\n",
    "\n",
    "\n",
    "    # This is the case where the tree is sorting into continuous data (regression)\n",
    "    else:\n",
    "        if x[tree['feature_index']] < tree['value']:\n",
    "            # go to left branch\n",
    "            return classify(tree['left'], x)\n",
    "        else:\n",
    "            # go to right branch\n",
    "            return classify(tree['right'], x)  "
   ]
  },
  {
   "cell_type": "markdown",
   "metadata": {},
   "source": [
    "Define a function that allows us to predict y values for multiple data points when given multiple data points"
   ]
  },
  {
   "cell_type": "code",
   "execution_count": 13,
   "metadata": {},
   "outputs": [],
   "source": [
    "# Predict the value of the inputted data points using our decision tree\n",
    "def predict(tree, X):\n",
    "    \"\"\"\n",
    "    Predict classification results for X.\n",
    "    Args:\n",
    "        X: (pd.Dataframe) testing sample features, of shape (N, p).\n",
    "    Returns:\n",
    "        (np.array): predicted testing sample labels, of shape (N,).\n",
    "    \"\"\"\n",
    "    try:\n",
    "        X = X.to_numpy()\n",
    "    except:\n",
    "        pass\n",
    "    \n",
    "    # Consider whether we are classifying a single data point or multiple data points\n",
    "    if len(X.shape) == 1:\n",
    "        return classify(tree, X)\n",
    "    else:\n",
    "        return np.array([classify(tree, x) for x in X])\n",
    "        #return np.array([classify(tree, x) for ind,x in X.iterrows()])"
   ]
  },
  {
   "cell_type": "markdown",
   "metadata": {},
   "source": [
    "Define a predict function that enables random forest inputs"
   ]
  },
  {
   "cell_type": "code",
   "execution_count": 14,
   "metadata": {},
   "outputs": [],
   "source": [
    "def predict_rf(rf, X):\n",
    "    \"\"\"\n",
    "    Predict classification results for X.\n",
    "    Args:\n",
    "        rf: A trained random forest through train_rf function.\n",
    "        X: (pd.Dataframe) testing sample features, of shape (N, p).\n",
    "    Returns:\n",
    "        (np.array): predicted testing sample labels, of shape (N,).\n",
    "    \"\"\"\n",
    "\n",
    "    def aggregate(decisions):\n",
    "        \"\"\"\n",
    "        This function takes a list of predicted labels produced by a list\n",
    "        of decision trees and returns the label with the majority of votes.\n",
    "        \"\"\"\n",
    "        # count = defaultdict(int)\n",
    "        # for decision in decisions:\n",
    "        #     count[decision] += 1\n",
    "        # return max(count, key=count.get)\n",
    "        return np.mean(decisions)\n",
    "    \n",
    "    try:\n",
    "        X= X.to_numpy()\n",
    "    except:\n",
    "        pass\n",
    "\n",
    "    if len(X.shape) == 1:\n",
    "        # if we have one sample\n",
    "        return aggregate([classify(tree, X) for tree in rf])\n",
    "    else:\n",
    "        # if we have multiple samples\n",
    "        #return np.array([aggregate([classify(tree, x) for tree in rf]) for index,x in X.iterrows()])\n",
    "        return np.array([aggregate([classify(tree, x) for tree in rf]) for x in X])"
   ]
  },
  {
   "cell_type": "markdown",
   "metadata": {},
   "source": [
    "Define a function that trains a random forest"
   ]
  },
  {
   "cell_type": "code",
   "execution_count": 15,
   "metadata": {},
   "outputs": [],
   "source": [
    "def train_rf(B, n_features, X, y,  columns_dict, sample_weights=None, depth=1, max_depth=10, min_samples_leaf=10,OOB = False ):\n",
    "    \"\"\"\n",
    "    Build the decision tree according to the training data.\n",
    "    Args:\n",
    "        B: number of decision trees. a constant\n",
    "        n_features: number of predictors taken into account at each split in the tree\n",
    "        X: (pd.Dataframe) training features, of shape (N, p). Each X[i] is a training sample.\n",
    "        y: (pd.Series) vector of training labels, of shape (N,). y[i] is the label for X[i]\n",
    "        columns_dict: a dictionary mapping column indices to whether the column is categorical or numerical variable.\n",
    "        sample_weights: weights for each samples, of shape (N,).\n",
    "    \"\"\"\n",
    "    if sample_weights is None:\n",
    "        # if the sample weights is not provided, we assume the samples have uniform weights\n",
    "        sample_weights = np.ones(X.shape[0]) / X.shape[0]\n",
    "    else:\n",
    "        sample_weights = np.array(sample_weights) / np.sum(sample_weights)\n",
    "\n",
    "    feature_names = 0 #X.columns.tolist()\n",
    "    try:\n",
    "        X = X.to_numpy()\n",
    "        y = y.to_numpy()\n",
    "    except:\n",
    "        pass\n",
    "    \n",
    "    N = X.shape[0]\n",
    "    training_indices = np.arange(N)\n",
    "    trees = []\n",
    "    vals = np.zeros([X.shape[1]])\n",
    "\n",
    "    \n",
    "\n",
    "    for _ in range(B):\n",
    "        # Sample the training_indices (with replacement)\n",
    "        sample = np.random.choice(training_indices, N, replace=True) \n",
    "        X_sample = X[sample, :]\n",
    "        y_sample = y[sample]\n",
    "        w_sample = sample_weights[sample]\n",
    "        tree = build_tree(n_features, X_sample, y_sample, w_sample,\n",
    "                             columns_dict, feature_names, depth, sample, max_depth, min_samples_leaf)\n",
    "        trees.append(tree)\n",
    "\n",
    "        if OOB == True:\n",
    "            OOB_indices = np.setdiff1d(np.arange(N), sample)\n",
    "            OOB_X, OOB_y = X[OOB_indices, :], y[OOB_indices]\n",
    "\n",
    "            predictions_OOB = predict(tree, OOB_X)\n",
    "            mse1 = mse(OOB_y, predictions_OOB)\n",
    "\n",
    "            \n",
    "            for j in range(12):\n",
    "                OOB_Xj = OOB_X.copy()\n",
    "\n",
    "                np.random.shuffle(OOB_Xj[:, j])\n",
    "                mse2 = mse(OOB_y, predict(tree, OOB_Xj))\n",
    "                vals[j] += mse2 - mse1\n",
    "                \n",
    "    if OOB == True:\n",
    "         return trees, vals / B\n",
    "\n",
    "    return trees"
   ]
  },
  {
   "cell_type": "markdown",
   "metadata": {},
   "source": [
    "Define a function that gives us a score for a generated tree by using MSE"
   ]
  },
  {
   "cell_type": "code",
   "execution_count": 16,
   "metadata": {},
   "outputs": [],
   "source": [
    "def score(tree, X_test, y_test):\n",
    "\n",
    "    y_pred = predict(tree, X_test)\n",
    "    \n",
    "    return np.mean((y_pred-y_test)**2)"
   ]
  },
  {
   "cell_type": "markdown",
   "metadata": {},
   "source": [
    "Define a function that gives us a score for a generated random forest through using MSE"
   ]
  },
  {
   "cell_type": "code",
   "execution_count": 17,
   "metadata": {},
   "outputs": [],
   "source": [
    "# Random Forest score determined via MSE\n",
    "def rf_score(rf, X_test, y_test):\n",
    "\n",
    "    y_pred = predict_rf(rf, X_test)\n",
    "    \n",
    "    return np.mean((y_pred-y_test)**2)"
   ]
  },
  {
   "cell_type": "markdown",
   "metadata": {},
   "source": [
    "Define a function that returns the r squared value"
   ]
  },
  {
   "cell_type": "code",
   "execution_count": 18,
   "metadata": {},
   "outputs": [],
   "source": [
    "# A function that returns the r**2 value#\n",
    "def r2_score(y_test, y_pred):\n",
    "  \n",
    "  numerator = np.sum((y_test - y_pred)**2) \n",
    "\n",
    "  y_avg = np.mean(y_test) \n",
    "\n",
    "  denominator = np.sum((y_test - y_avg)**2) \n",
    "\n",
    "  return 1 - numerator/denominator"
   ]
  },
  {
   "cell_type": "markdown",
   "metadata": {},
   "source": [
    "Construct a Decision Tree using unstandardised data and print the MSE and R-squared values for the unstandardised test and training data."
   ]
  },
  {
   "cell_type": "code",
   "execution_count": 19,
   "metadata": {},
   "outputs": [],
   "source": [
    "tree1 = train(1, 12, X_nano, y_nano,  columns_dict)\n",
    "\n",
    "y_pred_nano = predict(tree1, X_nano)\n",
    "y_pred_nano_test = predict(tree1,X_nano_test)"
   ]
  },
  {
   "cell_type": "code",
   "execution_count": 20,
   "metadata": {},
   "outputs": [
    {
     "name": "stdout",
     "output_type": "stream",
     "text": [
      "MSE when predicting training data class:1654.4051506951573\n",
      "R-squared value when predicting training data class:0.7503640060081044\n",
      "MSE when predicting test data class:3466.2197219005266\n",
      "R-squared value when predicting test data class:0.47498192494468083\n"
     ]
    }
   ],
   "source": [
    "print(f'MSE when predicting training data class:{score(tree1,X_nano,y_nano)}')\n",
    "print(f'R-squared value when predicting training data class:{r2_score(y_nano, y_pred_nano)}')\n",
    "print(f'MSE when predicting test data class:{score(tree1,X_nano_test,y_nano_test)}')\n",
    "print(f'R-squared value when predicting test data class:{r2_score(y_nano_test, y_pred_nano_test)}')"
   ]
  },
  {
   "cell_type": "markdown",
   "metadata": {},
   "source": [
    "Construct a Decision Tree using standardised data and print the MSE and R-sqauared values for the standardised test and training data."
   ]
  },
  {
   "cell_type": "code",
   "execution_count": 21,
   "metadata": {},
   "outputs": [],
   "source": [
    "X_nano_std = standardise(X_nano, X_train_=None)\n",
    "X_nano_test_std = standardise(X_nano_test, X_train_= X_nano)\n"
   ]
  },
  {
   "cell_type": "code",
   "execution_count": 22,
   "metadata": {},
   "outputs": [],
   "source": [
    "tree2 = train(1, X_nano_std.shape[1], X_nano_std, y_nano,  columns_dict)\n",
    "\n",
    "y_pred_nano2 = predict(tree2, X_nano_std)\n",
    "y_pred_nano_test2 = predict(tree2,X_nano_test_std)"
   ]
  },
  {
   "cell_type": "code",
   "execution_count": 23,
   "metadata": {},
   "outputs": [
    {
     "name": "stdout",
     "output_type": "stream",
     "text": [
      "MSE when predicting standardised training data class:1667.178567477492\n",
      "R-squared value when predicting standardised training data class:0.7484366035252296\n",
      "MSE when predicting standardised test data class:3367.1506927303126\n",
      "R-squared value when predicting standardised test data class:0.489987618514512\n"
     ]
    }
   ],
   "source": [
    "print(f'MSE when predicting standardised training data class:{score(tree2,X_nano_std,y_nano)}')\n",
    "print(f'R-squared value when predicting standardised training data class:{r2_score(y_nano, y_pred_nano2)}')\n",
    "print(f'MSE when predicting standardised test data class:{score(tree2,X_nano_test_std.to_numpy(),y_nano_test.to_numpy())}')\n",
    "print(f'R-squared value when predicting standardised test data class:{r2_score(y_nano_test, y_pred_nano_test2)}')"
   ]
  },
  {
   "cell_type": "markdown",
   "metadata": {},
   "source": [
    "We note that both the standardised and unstandardised data models exhibit similar MSE and R-sqaured values when doing predictions. However it is worth noting that the decision trees appear to predict the training data class with $r^2≈0.75$ but pedict the test data significantly less accurately resulting in an $r^2≈0.47$"
   ]
  },
  {
   "cell_type": "markdown",
   "metadata": {
    "id": "wx4c9z5pMgDR"
   },
   "source": [
    "<a name=\"task-112\"></a>\n",
    "\n",
    "### (1.1.2) [(index)](#index-task-112)"
   ]
  },
  {
   "cell_type": "markdown",
   "metadata": {},
   "source": [
    "Determine the best B utilisng 5-fold validation"
   ]
  },
  {
   "cell_type": "markdown",
   "metadata": {},
   "source": [
    "Implement a function that returns the indices per fold for a shuffled k fold split using N data points"
   ]
  },
  {
   "cell_type": "code",
   "execution_count": 24,
   "metadata": {},
   "outputs": [],
   "source": [
    "def cross_val_split(N, num_folds):\n",
    "  fold_size = N // num_folds\n",
    "\n",
    "  index_perm = np.random.permutation(np.arange(N))\n",
    "\n",
    "  folds = []\n",
    "  for k in range(num_folds):\n",
    "\n",
    "    folds.append(index_perm[k * fold_size:(k+1) * fold_size])\n",
    "  return folds"
   ]
  },
  {
   "cell_type": "markdown",
   "metadata": {},
   "source": [
    "Implement a Function that returns the cross validation score for a random forest."
   ]
  },
  {
   "cell_type": "code",
   "execution_count": 25,
   "metadata": {},
   "outputs": [],
   "source": [
    "def rf_cross_validation_score2(X_train, y_train, folds, B, max_depth_value = 10, min_samples_leaf_value = 10):\n",
    "  scores_test = []\n",
    "  scores_train = []\n",
    "  for i in range(len(folds)):\n",
    "        # choose the indexes corresponding to the ith fold\n",
    "    val_indexes = folds[i]\n",
    "\n",
    "    # the training set indexes consist of all indexes not included in the val set indexes - so we use the set operator to remove them\n",
    "    train_indexes = list(set(range(y_train.shape[0])) - set(val_indexes))\n",
    "    \n",
    "    # Create training sets\n",
    "    # X_train_i = X_train.loc[train_indexes]\n",
    "    # y_train_i = y_train.loc[train_indexes]\n",
    "    X_train_i = X_train[train_indexes,:]\n",
    "    y_train_i = y_train[train_indexes]\n",
    "\n",
    "    # Create test sets\n",
    "    # X_val_i = X_train.loc[val_indexes] \n",
    "    # y_val_i = y_train.loc[val_indexes] \n",
    "    X_val_i = X_train[val_indexes,:] \n",
    "    y_val_i = y_train[val_indexes]\n",
    "\n",
    "\n",
    "    # Generate random forest                              \n",
    "    n_features = int(X_train_i.shape[1]/3)                        # Chosen using rule of thumb for regression\n",
    "    rf = train_rf(B, n_features, X_train_i, y_train_i, columns_dict, max_depth = max_depth_value, min_samples_leaf = min_samples_leaf_value)\n",
    "    \n",
    "    \n",
    "\n",
    "    #score_i = rf_score(rf ,X_val_i, y_val_i)\n",
    "    score_itest = rf_score(rf ,X_val_i, y_val_i)\n",
    "    score_itrain = rf_score(rf ,X_train_i, y_train_i) \n",
    "\n",
    "    scores_test.append(score_itest)\n",
    "    scores_train.append(score_itrain)\n",
    "\n",
    "  # Return the average score\n",
    "  return np.mean(scores_test), np.mean(scores_train) "
   ]
  },
  {
   "cell_type": "markdown",
   "metadata": {},
   "source": [
    "Implement a Function that chooses the best B by via the minimiser of the cross validation score"
   ]
  },
  {
   "cell_type": "code",
   "execution_count": 26,
   "metadata": {},
   "outputs": [],
   "source": [
    "def choose_best_B2(X_train, y_train, folds, B_range, printt = True, plott = False):\n",
    "  B_scores_test = np.zeros((len(B_range),))\n",
    "  B_scores_train = np.zeros((len(B_range),))\n",
    "  \n",
    "  for i, B in tqdm(enumerate(B_range)):\n",
    "\n",
    "    B_scores_test[i],B_scores_train[i]  = rf_cross_validation_score2(X_train, y_train, folds, B)\n",
    "\n",
    "    if printt == True:\n",
    "      print(f'CV_ACC@B={B} test: {B_scores_test[i]:.3f} , CV_ACC@B={B} train: {B_scores_train[i]:.3f}')\n",
    "\n",
    "  best_B_index_train = np.argmin(B_scores_train)                         # Should be argmin\n",
    "  best_B_index_test = np.argmin(B_scores_test)\n",
    "\n",
    "  if plott == True: \n",
    "    plt.figure()\n",
    "    x_vals = B_range\n",
    "    y_vals = B_scores_train\n",
    "    y2_vals = B_scores_test\n",
    "    plt.plot(x_vals, y_vals, label = 'Training Data')\n",
    "    plt.plot(x_vals, y2_vals, label = 'Test Data')\n",
    "    plt.xlabel('B (no. of trees in forest)')\n",
    "    plt.ylabel('Cross Validation Score')\n",
    "    plt.legend()\n",
    "    plt.title('Plot showing Cross Validation Scores against B(no.of trees in the forest)')\n",
    "  return B_range[best_B_index_train],B_range[best_B_index_test], B_scores_train, B_scores_test"
   ]
  },
  {
   "cell_type": "code",
   "execution_count": 27,
   "metadata": {},
   "outputs": [],
   "source": [
    "def choose_best_B2_avg(X_train, y_train, folds, B_range, N, plottt = False):\n",
    "\n",
    "    scores_train_avg = 0\n",
    "    scores_test_avg = 0\n",
    "    \n",
    "    for i in tqdm(range (N)):\n",
    "        B_train , B_test, scores_train, scores_test = choose_best_B2(X_train, y_train, folds, B_range, printt = False, plott = False)\n",
    "\n",
    "        scores_train_avg += scores_train\n",
    "        scores_test_avg += scores_test\n",
    "\n",
    "    scores_train_avg/=N\n",
    "    scores_test_avg/= N\n",
    "\n",
    "    best_B_index_train = np.argmin(scores_train_avg)            \n",
    "    best_B_index_test = np.argmin(scores_test_avg)\n",
    "\n",
    "    if plottt == True: \n",
    "        plt.figure()\n",
    "        x_vals = B_range\n",
    "        y_vals = scores_train_avg\n",
    "        y2_vals = scores_test_avg\n",
    "        plt.plot(x_vals, y_vals, label = 'Training Data')\n",
    "        plt.plot(x_vals, y2_vals, label = 'Test Data')\n",
    "        plt.xlabel('B (no. of trees in forest)')\n",
    "        plt.ylabel('Cross Validation Score')\n",
    "        plt.legend()\n",
    "        plt.title('Plot showing Average Cross Validation Score against B(no.of trees in the forest)')\n",
    "\n",
    "    return B_range[best_B_index_train],B_range[best_B_index_test], scores_train_avg, scores_test_avg\n"
   ]
  },
  {
   "cell_type": "markdown",
   "metadata": {},
   "source": [
    "Find the best B"
   ]
  },
  {
   "cell_type": "code",
   "execution_count": 28,
   "metadata": {},
   "outputs": [],
   "source": [
    "folds_indexes2 = cross_val_split(X_nano.shape[0], 5)"
   ]
  },
  {
   "cell_type": "code",
   "execution_count": 29,
   "metadata": {},
   "outputs": [
    {
     "data": {
      "application/vnd.jupyter.widget-view+json": {
       "model_id": "3049edbd1b3d4a09aed87021dd61edb9",
       "version_major": 2,
       "version_minor": 0
      },
      "text/plain": [
       "0it [00:00, ?it/s]"
      ]
     },
     "metadata": {},
     "output_type": "display_data"
    },
    {
     "name": "stdout",
     "output_type": "stream",
     "text": [
      "CV_ACC@B=1 test: 6558.471 , CV_ACC@B=1 train: 3414.200\n",
      "CV_ACC@B=4 test: 4298.621 , CV_ACC@B=4 train: 1762.390\n"
     ]
    },
    {
     "name": "stdout",
     "output_type": "stream",
     "text": [
      "CV_ACC@B=7 test: 3999.588 , CV_ACC@B=7 train: 1578.082\n",
      "CV_ACC@B=10 test: 3891.459 , CV_ACC@B=10 train: 1534.575\n",
      "CV_ACC@B=13 test: 3562.315 , CV_ACC@B=13 train: 1404.451\n",
      "CV_ACC@B=16 test: 3548.932 , CV_ACC@B=16 train: 1408.406\n",
      "CV_ACC@B=19 test: 3665.243 , CV_ACC@B=19 train: 1358.213\n",
      "CV_ACC@B=22 test: 3662.482 , CV_ACC@B=22 train: 1340.334\n",
      "CV_ACC@B=25 test: 3511.747 , CV_ACC@B=25 train: 1316.180\n",
      "CV_ACC@B=28 test: 3589.928 , CV_ACC@B=28 train: 1324.092\n",
      "CV_ACC@B=31 test: 3461.505 , CV_ACC@B=31 train: 1280.855\n"
     ]
    },
    {
     "data": {
      "image/png": "[encoded data removed]",
      "text/plain": [
       "<Figure size 432x288 with 1 Axes>"
      ]
     },
     "metadata": {
      "needs_background": "light"
     },
     "output_type": "display_data"
    }
   ],
   "source": [
    "Best_B_train , Best_B_test, scores_train, scores_test = choose_best_B2(X_nano_arr, y_nano_arr, folds_indexes2, np.arange(1, 32,3), plott =True)"
   ]
  },
  {
   "cell_type": "code",
   "execution_count": 30,
   "metadata": {},
   "outputs": [
    {
     "data": {
      "application/vnd.jupyter.widget-view+json": {
       "model_id": "23c5cb0f05ff4d46a8462be86cbe090d",
       "version_major": 2,
       "version_minor": 0
      },
      "text/plain": [
       "0it [00:00, ?it/s]"
      ]
     },
     "metadata": {},
     "output_type": "display_data"
    },
    {
     "name": "stdout",
     "output_type": "stream",
     "text": [
      "CV_ACC@B=1 test: 6483.703 , CV_ACC@B=1 train: 3432.857\n",
      "CV_ACC@B=4 test: 4330.883 , CV_ACC@B=4 train: 1819.137\n",
      "CV_ACC@B=7 test: 3542.765 , CV_ACC@B=7 train: 1534.093\n",
      "CV_ACC@B=10 test: 3845.095 , CV_ACC@B=10 train: 1403.497\n",
      "CV_ACC@B=13 test: 3789.725 , CV_ACC@B=13 train: 1392.471\n",
      "CV_ACC@B=16 test: 3439.952 , CV_ACC@B=16 train: 1385.235\n",
      "CV_ACC@B=19 test: 3555.766 , CV_ACC@B=19 train: 1342.608\n",
      "CV_ACC@B=22 test: 3531.381 , CV_ACC@B=22 train: 1306.200\n",
      "CV_ACC@B=25 test: 3574.816 , CV_ACC@B=25 train: 1353.438\n",
      "CV_ACC@B=28 test: 3446.164 , CV_ACC@B=28 train: 1311.196\n",
      "CV_ACC@B=31 test: 3532.051 , CV_ACC@B=31 train: 1320.983\n"
     ]
    },
    {
     "data": {
      "image/png": "[encoded data removed]",
      "text/plain": [
       "<Figure size 432x288 with 1 Axes>"
      ]
     },
     "metadata": {
      "needs_background": "light"
     },
     "output_type": "display_data"
    }
   ],
   "source": [
    "Best_B_train , Best_B_test, scores_train, scores_test = choose_best_B2(X_nano_arr, y_nano_arr, folds_indexes2, np.arange(1, 32,3), plott =True)"
   ]
  },
  {
   "cell_type": "markdown",
   "metadata": {},
   "source": [
    "The above two plots show appear to show volatility when calculating cross validation scores so we consider an average of multiple iterations to determine the best B"
   ]
  },
  {
   "cell_type": "code",
   "execution_count": 31,
   "metadata": {},
   "outputs": [
    {
     "data": {
      "application/vnd.jupyter.widget-view+json": {
       "model_id": "65a1218bb6964dbeb2c983254a85faf1",
       "version_major": 2,
       "version_minor": 0
      },
      "text/plain": [
       "  0%|          | 0/10 [00:00<?, ?it/s]"
      ]
     },
     "metadata": {},
     "output_type": "display_data"
    },
    {
     "data": {
      "application/vnd.jupyter.widget-view+json": {
       "model_id": "95ea791450604be6825ec1eb35cdd88f",
       "version_major": 2,
       "version_minor": 0
      },
      "text/plain": [
       "0it [00:00, ?it/s]"
      ]
     },
     "metadata": {},
     "output_type": "display_data"
    },
    {
     "data": {
      "application/vnd.jupyter.widget-view+json": {
       "model_id": "904db48fc51b4ef4a6eb1e69deac8359",
       "version_major": 2,
       "version_minor": 0
      },
      "text/plain": [
       "0it [00:00, ?it/s]"
      ]
     },
     "metadata": {},
     "output_type": "display_data"
    },
    {
     "data": {
      "application/vnd.jupyter.widget-view+json": {
       "model_id": "277b4598dd384ed2b55b7b5fd85bc955",
       "version_major": 2,
       "version_minor": 0
      },
      "text/plain": [
       "0it [00:00, ?it/s]"
      ]
     },
     "metadata": {},
     "output_type": "display_data"
    },
    {
     "data": {
      "application/vnd.jupyter.widget-view+json": {
       "model_id": "6b239f23f19542af8f309b310db0d6ee",
       "version_major": 2,
       "version_minor": 0
      },
      "text/plain": [
       "0it [00:00, ?it/s]"
      ]
     },
     "metadata": {},
     "output_type": "display_data"
    },
    {
     "data": {
      "application/vnd.jupyter.widget-view+json": {
       "model_id": "fee93c1baefe48699923a13e871baf30",
       "version_major": 2,
       "version_minor": 0
      },
      "text/plain": [
       "0it [00:00, ?it/s]"
      ]
     },
     "metadata": {},
     "output_type": "display_data"
    },
    {
     "data": {
      "application/vnd.jupyter.widget-view+json": {
       "model_id": "7be7a4dbbf394731b5045ddb15997a22",
       "version_major": 2,
       "version_minor": 0
      },
      "text/plain": [
       "0it [00:00, ?it/s]"
      ]
     },
     "metadata": {},
     "output_type": "display_data"
    },
    {
     "data": {
      "application/vnd.jupyter.widget-view+json": {
       "model_id": "6b14ce7287c148729c0ed6674bca5c2c",
       "version_major": 2,
       "version_minor": 0
      },
      "text/plain": [
       "0it [00:00, ?it/s]"
      ]
     },
     "metadata": {},
     "output_type": "display_data"
    },
    {
     "data": {
      "application/vnd.jupyter.widget-view+json": {
       "model_id": "9549040f318f47c489611c723cc36550",
       "version_major": 2,
       "version_minor": 0
      },
      "text/plain": [
       "0it [00:00, ?it/s]"
      ]
     },
     "metadata": {},
     "output_type": "display_data"
    },
    {
     "data": {
      "application/vnd.jupyter.widget-view+json": {
       "model_id": "88856f90fd234bc28ac76dd0501546c1",
       "version_major": 2,
       "version_minor": 0
      },
      "text/plain": [
       "0it [00:00, ?it/s]"
      ]
     },
     "metadata": {},
     "output_type": "display_data"
    },
    {
     "data": {
      "application/vnd.jupyter.widget-view+json": {
       "model_id": "8056768f385244e19c7d9645408613a8",
       "version_major": 2,
       "version_minor": 0
      },
      "text/plain": [
       "0it [00:00, ?it/s]"
      ]
     },
     "metadata": {},
     "output_type": "display_data"
    },
    {
     "data": {
      "image/png": "[encoded data removed]",
      "text/plain": [
       "<Figure size 432x288 with 1 Axes>"
      ]
     },
     "metadata": {
      "needs_background": "light"
     },
     "output_type": "display_data"
    }
   ],
   "source": [
    "Best_B_train_avg , Best_B_test_avg, scores_train_avg, scores_test_avg = choose_best_B2_avg(X_nano_arr, y_nano_arr, folds_indexes2, np.arange(1, 32,3), 10, plottt =True)"
   ]
  },
  {
   "cell_type": "code",
   "execution_count": 32,
   "metadata": {},
   "outputs": [
    {
     "name": "stdout",
     "output_type": "stream",
     "text": [
      "31 31\n"
     ]
    }
   ],
   "source": [
    "print(Best_B_train_avg , Best_B_test_avg)\n",
    "Best_B = Best_B_test_avg "
   ]
  },
  {
   "cell_type": "markdown",
   "metadata": {},
   "source": [
    "Construct a Random Forest using unstandardised data and print the MSE and R-sqauared values for the unstandardised test and training data."
   ]
  },
  {
   "cell_type": "code",
   "execution_count": 33,
   "metadata": {},
   "outputs": [],
   "source": [
    "forest1 = train_rf(Best_B, 4, X_nano, y_nano,  columns_dict)\n",
    "y_nano_pred_rf = predict_rf(forest1, X_nano)\n",
    "y_nano_pred_test_rf = predict_rf(forest1, X_nano_test) "
   ]
  },
  {
   "cell_type": "code",
   "execution_count": 34,
   "metadata": {},
   "outputs": [
    {
     "name": "stdout",
     "output_type": "stream",
     "text": [
      "MSE when predicting training data class:1315.1381740967322\n",
      "R-squared value when predicting training data class:0.8015565744646196\n",
      "MSE when predicting test data class:3714.0949523153545\n",
      "R-squared value when predicting test data class:0.43743699508809\n"
     ]
    }
   ],
   "source": [
    "print(f'MSE when predicting training data class:{rf_score(forest1, X_nano, y_nano)}')\n",
    "print(f'R-squared value when predicting training data class:{r2_score(y_nano, y_nano_pred_rf)}')\n",
    "print(f'MSE when predicting test data class:{rf_score(forest1, X_nano_test.to_numpy(), y_nano_test.to_numpy())}')\n",
    "print(f'R-squared value when predicting test data class:{r2_score(y_nano_test, y_nano_pred_test_rf)}')"
   ]
  },
  {
   "cell_type": "markdown",
   "metadata": {},
   "source": [
    "Construct a Random Forest using standardised data and print the MSE and R-sqauared values for the standardised test and training data."
   ]
  },
  {
   "cell_type": "code",
   "execution_count": 35,
   "metadata": {},
   "outputs": [],
   "source": [
    "forest2 = train_rf(Best_B, 4, X_nano_std, y_nano,  columns_dict)\n",
    "y_nano_pred_rf2 = predict_rf(forest2, X_nano_std)\n",
    "y_nano_pred_test_rf2 = predict_rf(forest2, X_nano_test_std) "
   ]
  },
  {
   "cell_type": "code",
   "execution_count": 36,
   "metadata": {},
   "outputs": [
    {
     "name": "stdout",
     "output_type": "stream",
     "text": [
      "MSE when predicting standardised training data class:1351.4295306835754\n",
      "R-squared value when predicting standardised training data class:0.7960805102302546\n",
      "MSE when predicting standardised test data class:2794.375805504799\n",
      "R-squared value when standardised predicting test data class:0.5767441408524219\n"
     ]
    }
   ],
   "source": [
    "print(f'MSE when predicting standardised training data class:{rf_score(forest2, X_nano_std, y_nano)}')\n",
    "print(f'R-squared value when predicting standardised training data class:{r2_score(y_nano, y_nano_pred_rf2)}')\n",
    "print(f'MSE when predicting standardised test data class:{rf_score(forest2, X_nano_test_std.to_numpy(), y_nano_test.to_numpy())}')\n",
    "print(f'R-squared value when standardised predicting test data class:{r2_score(y_nano_test, y_nano_pred_test_rf2)}')"
   ]
  },
  {
   "cell_type": "markdown",
   "metadata": {},
   "source": [
    "Construct an ensemble of decision trees(a collection of trees without feature bagging) using unstandardised data and print MSE and R-squared values for the unstandardised test and training data."
   ]
  },
  {
   "cell_type": "code",
   "execution_count": 37,
   "metadata": {},
   "outputs": [],
   "source": [
    "forest_ensemble = train_rf(Best_B, 12, X_nano, y_nano,  columns_dict)\n",
    "y_nano_pred_ens = predict_rf(forest_ensemble, X_nano)\n",
    "y_nano_pred_test_ens = predict_rf(forest_ensemble, X_nano_test)"
   ]
  },
  {
   "cell_type": "code",
   "execution_count": 38,
   "metadata": {},
   "outputs": [
    {
     "name": "stdout",
     "output_type": "stream",
     "text": [
      "MSE when predicting standardised training data class:1024.9354674259716\n",
      "R-squared value when predicting standardised training data class:0.8453457521690371\n",
      "MSE when predicting standardised test data class:3068.4670322383254\n",
      "R-squared value when standardised predicting test data class:0.535228351377228\n"
     ]
    }
   ],
   "source": [
    "print(f'MSE when predicting standardised training data class:{rf_score(forest_ensemble, X_nano, y_nano)}')\n",
    "print(f'R-squared value when predicting standardised training data class:{r2_score(y_nano, y_nano_pred_ens)}')\n",
    "print(f'MSE when predicting standardised test data class:{rf_score(forest_ensemble, X_nano_test.to_numpy(), y_nano_test.to_numpy())}')\n",
    "print(f'R-squared value when standardised predicting test data class:{r2_score(y_nano_test, y_nano_pred_test_ens)}')"
   ]
  },
  {
   "cell_type": "markdown",
   "metadata": {},
   "source": [
    "Construct an ensemble of decision trees (a collection of trees without feature bagging) using standardised data and print MSE and R-squared values for the standardised test and training data."
   ]
  },
  {
   "cell_type": "code",
   "execution_count": 39,
   "metadata": {},
   "outputs": [],
   "source": [
    "forest_ensemble2 = train_rf(Best_B, 12, X_nano_std, y_nano,  columns_dict)\n",
    "y_nano_pred_ens2 = predict_rf(forest_ensemble2, X_nano_std)\n",
    "y_nano_pred_test_ens2 = predict_rf(forest_ensemble2, X_nano_test_std)"
   ]
  },
  {
   "cell_type": "code",
   "execution_count": 40,
   "metadata": {},
   "outputs": [
    {
     "name": "stdout",
     "output_type": "stream",
     "text": [
      "MSE when predicting standardised training data class:1045.0178614734723\n",
      "R-squared value when predicting standardised training data class:0.8423154857329838\n",
      "MSE when predicting standardised test data class:3192.1218542610777\n",
      "R-squared value when standardised predicting test data class:0.5164987202983022\n"
     ]
    }
   ],
   "source": [
    "print(f'MSE when predicting standardised training data class:{rf_score(forest_ensemble2, X_nano_std, y_nano)}')\n",
    "print(f'R-squared value when predicting standardised training data class:{r2_score(y_nano, y_nano_pred_ens2)}')\n",
    "print(f'MSE when predicting standardised test data class:{rf_score(forest_ensemble2, X_nano_test_std.to_numpy(), y_nano_test.to_numpy())}')\n",
    "print(f'R-squared value when standardised predicting test data class:{r2_score(y_nano_test, y_nano_pred_test_ens2)}')"
   ]
  },
  {
   "cell_type": "markdown",
   "metadata": {},
   "source": [
    "We note that utilising optimal B for random forests produces better values with regards to MSE and R-squared when predicting the test data and training data in comparison to the decision tree predictions.\n",
    "\n",
    "While the lower training data scores could have been may be explained due to potentially overfitting the model to the data, random forrests are near impossible to overfit. The reduced disparity between the MSE and R-squared values between the test and training data predictions. This is further supported by considering the cross validation scores when picking optimal B by noting the asymptotic nature of the outputs and the similarities between the test and training data plots r the cross validation scores.\n",
    "\n",
    "The ensemble model serves as an improved decision tree model in that while it lacks the feature bagging of the random forests, it considers B number of trees with all features. This would make them susceptable to overfitting. This theory may be further supported by noting the reduced MSE when predicting the training data when compared to the decision tree model with minimal change in the MSE's when prediciting the Test data.\n"
   ]
  },
  {
   "cell_type": "markdown",
   "metadata": {
    "id": "lEwNJHHTMgNG"
   },
   "source": [
    "<a name=\"task-113\"></a>\n",
    "\n",
    "### (1.1.3) [(index)](#index-task-113)"
   ]
  },
  {
   "cell_type": "markdown",
   "metadata": {},
   "source": [
    "Define a function that chooses the best max depth and min samples leaf while using some fixed B"
   ]
  },
  {
   "cell_type": "code",
   "execution_count": 41,
   "metadata": {},
   "outputs": [],
   "source": [
    "def choose_best_md_ms(X_train, y_train, folds, B, max_depth_values, min_samples_leaf_values, Print = False):\n",
    "  md_ms_scores = np.zeros((len(max_depth_values),len(min_samples_leaf_values)))\n",
    "\n",
    "  unique_combinations = []\n",
    "  for i in range(len(max_depth_values)):\n",
    "    for j in range(len(min_samples_leaf_values)):\n",
    "        unique_combinations.append((max_depth_values[i], min_samples_leaf_values[j]))\n",
    "  \n",
    "  for u in tqdm(unique_combinations):\n",
    "    md_ms_scores[np.where(max_depth_values==u[0]), np.where(min_samples_leaf_values==u[1])], thing = rf_cross_validation_score2(X_train, y_train, folds, B, u[0], u[1])\n",
    "\n",
    "\n",
    "    if Print == True:\n",
    "      print(f'score max_depth={u[0]}, min_sample_leaf={u[1]}:{md_ms_scores[np.where(max_depth_values==u[0]), np.where(min_samples_leaf_values==u[1])]} ')\n",
    "\n",
    "  best_md_ms_index = np.unravel_index(md_ms_scores.argmin(), md_ms_scores.shape)                       # returns the array indexing of the smallest argument\n",
    "  #print(best_md_ms_index)\n",
    "  return max_depth_values[best_md_ms_index[0]], min_samples_leaf_values[best_md_ms_index[1]], md_ms_scores"
   ]
  },
  {
   "cell_type": "markdown",
   "metadata": {},
   "source": [
    "Determine the optimal max depth and min samples leaf"
   ]
  },
  {
   "cell_type": "code",
   "execution_count": 42,
   "metadata": {},
   "outputs": [
    {
     "data": {
      "application/vnd.jupyter.widget-view+json": {
       "model_id": "6516e73ec60c47e99b81bdecd61fba36",
       "version_major": 2,
       "version_minor": 0
      },
      "text/plain": [
       "  0%|          | 0/49 [00:00<?, ?it/s]"
      ]
     },
     "metadata": {},
     "output_type": "display_data"
    },
    {
     "name": "stdout",
     "output_type": "stream",
     "text": [
      "score max_depth=1, min_sample_leaf=1:[[6598.13554713]] \n",
      "score max_depth=1, min_sample_leaf=3:[[6595.72779324]] \n",
      "score max_depth=1, min_sample_leaf=5:[[6601.18992505]] \n",
      "score max_depth=1, min_sample_leaf=7:[[6602.22866681]] \n",
      "score max_depth=1, min_sample_leaf=9:[[6602.90040369]] \n",
      "score max_depth=1, min_sample_leaf=11:[[6607.55468543]] \n",
      "score max_depth=1, min_sample_leaf=13:[[6601.97935685]] \n",
      "score max_depth=3, min_sample_leaf=1:[[5939.80754005]] \n",
      "score max_depth=3, min_sample_leaf=3:[[3446.55352763]] \n",
      "score max_depth=3, min_sample_leaf=5:[[3408.10981947]] \n",
      "score max_depth=3, min_sample_leaf=7:[[3503.3573698]] \n",
      "score max_depth=3, min_sample_leaf=9:[[3566.25930893]] \n",
      "score max_depth=3, min_sample_leaf=11:[[3412.20794271]] \n",
      "score max_depth=3, min_sample_leaf=13:[[3473.53687739]] \n",
      "score max_depth=5, min_sample_leaf=1:[[5926.22208219]] \n",
      "score max_depth=5, min_sample_leaf=3:[[3565.02423084]] \n",
      "score max_depth=5, min_sample_leaf=5:[[3467.2137559]] \n",
      "score max_depth=5, min_sample_leaf=7:[[3401.8421177]] \n",
      "score max_depth=5, min_sample_leaf=9:[[3562.52586424]] \n",
      "score max_depth=5, min_sample_leaf=11:[[3449.17074275]] \n",
      "score max_depth=5, min_sample_leaf=13:[[3522.58235576]] \n",
      "score max_depth=7, min_sample_leaf=1:[[5939.62746243]] \n",
      "score max_depth=7, min_sample_leaf=3:[[3491.362625]] \n",
      "score max_depth=7, min_sample_leaf=5:[[3509.87574647]] \n",
      "score max_depth=7, min_sample_leaf=7:[[3465.06620151]] \n",
      "score max_depth=7, min_sample_leaf=9:[[3435.71381118]] \n",
      "score max_depth=7, min_sample_leaf=11:[[3283.18530414]] \n",
      "score max_depth=7, min_sample_leaf=13:[[3383.01167446]] \n",
      "score max_depth=9, min_sample_leaf=1:[[5957.4960091]] \n",
      "score max_depth=9, min_sample_leaf=3:[[3420.60387398]] \n",
      "score max_depth=9, min_sample_leaf=5:[[3573.88629113]] \n",
      "score max_depth=9, min_sample_leaf=7:[[3505.62288]] \n",
      "score max_depth=9, min_sample_leaf=9:[[3447.70254317]] \n",
      "score max_depth=9, min_sample_leaf=11:[[3455.42665032]] \n",
      "score max_depth=9, min_sample_leaf=13:[[3537.83711004]] \n",
      "score max_depth=11, min_sample_leaf=1:[[5918.17929951]] \n",
      "score max_depth=11, min_sample_leaf=3:[[3389.45294676]] \n",
      "score max_depth=11, min_sample_leaf=5:[[3465.00640726]] \n",
      "score max_depth=11, min_sample_leaf=7:[[3417.85078371]] \n",
      "score max_depth=11, min_sample_leaf=9:[[3428.32749796]] \n",
      "score max_depth=11, min_sample_leaf=11:[[3442.29685872]] \n",
      "score max_depth=11, min_sample_leaf=13:[[3472.72533063]] \n",
      "score max_depth=13, min_sample_leaf=1:[[5961.92245523]] \n",
      "score max_depth=13, min_sample_leaf=3:[[3688.29570727]] \n",
      "score max_depth=13, min_sample_leaf=5:[[3517.34379239]] \n",
      "score max_depth=13, min_sample_leaf=7:[[3436.03836262]] \n",
      "score max_depth=13, min_sample_leaf=9:[[3458.69855424]] \n",
      "score max_depth=13, min_sample_leaf=11:[[3548.98655305]] \n",
      "score max_depth=13, min_sample_leaf=13:[[3557.54151268]] \n",
      "7 11\n"
     ]
    }
   ],
   "source": [
    "\n",
    "Best_md, Best_ms, md_ms_scores_agg = choose_best_md_ms(X_nano_arr, y_nano_arr, folds_indexes2,Best_B, np.arange(1,15,2), np.arange(1,15,2), Print = True)\n",
    "print(Best_md,Best_ms)"
   ]
  },
  {
   "cell_type": "markdown",
   "metadata": {},
   "source": [
    "Plot Max depth and min sample leaf scores "
   ]
  },
  {
   "cell_type": "code",
   "execution_count": 43,
   "metadata": {},
   "outputs": [
    {
     "data": {
      "image/png": "[encoded data removed]",
      "text/plain": [
       "<Figure size 432x288 with 2 Axes>"
      ]
     },
     "metadata": {
      "needs_background": "light"
     },
     "output_type": "display_data"
    }
   ],
   "source": [
    "depth_values = np.arange(1, 15, 2)\n",
    "leaf_values = np.arange(1, 15, 2)\n",
    "\n",
    "depth, leaf = np.meshgrid(depth_values, leaf_values)\n",
    "\n",
    "# Create a color plot of the MSE values\n",
    "plt.pcolormesh(depth, leaf, md_ms_scores_agg, cmap='viridis')\n",
    "plt.colorbar(label='MSE')\n",
    "plt.xlabel('Depth')\n",
    "plt.ylabel('Leaf')\n",
    "plt.title('MSE Grid Plot')\n",
    "plt.show()"
   ]
  },
  {
   "cell_type": "markdown",
   "metadata": {},
   "source": [
    "The plotted data suggest that Low leaf values produce the worst cross validation scores followed by low depth values. However we also observe that there is a rapid convergence to more optimal values.\n",
    "\n",
    "An important consideration with regard to the convergence is the importance of the min leaf values as they serve to prune the constructed trees of the forest. Which is to say they prevent overfitting and likely explain why the scores asymptote at the shown values when min leaf and max depth instead of reducing the cross validation scores and overfitting to the training data.\n",
    "\n",
    "While having calculated the 'Best B' value earlier, it would likely have been more optimal to have calculated every combination of the three hyper parameters at the same time. It is also worth noting that due to the seemingly asymptotic nature of the cross validation scores, optimal hyper parameters are of lesser importance than finding hyperparameter values that are sufficiently close to the aymptotic cost value whilst minimising computation costs when training and predicting via the model."
   ]
  },
  {
   "cell_type": "markdown",
   "metadata": {},
   "source": [
    "Perform Out of Bagging"
   ]
  },
  {
   "cell_type": "code",
   "execution_count": 44,
   "metadata": {},
   "outputs": [],
   "source": [
    "forest9, imp_features = train_rf(Best_B, 4, X_nano_std, y_nano,  columns_dict, sample_weights=None, depth=1, max_depth= Best_md, min_samples_leaf = Best_ms,OOB = True )"
   ]
  },
  {
   "cell_type": "code",
   "execution_count": 45,
   "metadata": {},
   "outputs": [
    {
     "data": {
      "image/png": "[encoded data removed]",
      "text/plain": [
       "<Figure size 432x288 with 1 Axes>"
      ]
     },
     "metadata": {
      "needs_background": "light"
     },
     "output_type": "display_data"
    }
   ],
   "source": [
    "ordered_indexes = np.argsort(imp_features)[::-1]\n",
    "test_data_headings = nano_data.columns[ordered_indexes]\n",
    "\n",
    "percentages = (imp_features / np.max(imp_features)) * 100\n",
    "sorted_indices = np.argsort(percentages)[::-1]\n",
    "\n",
    "plt.barh(test_data_headings, percentages[sorted_indices])\n",
    "plt.xlabel('Percentage')\n",
    "plt.title('Percentage of Highest Feature Importance')\n",
    "plt.show()"
   ]
  },
  {
   "cell_type": "markdown",
   "metadata": {},
   "source": [
    "Out of Bagging tellls us that Surface Area is seemingly the most important feature followed closely by Defect Ratio and H9 factor. This would imply that these features have the greatest impact on the capacitance however an important note is that due to the randomness of random forest generation, further iterations may not necessarily reflect the same results.\n",
    "However the high weighting on a few samples may serve to explain why the random forest model was the best model out of those discussed thus far as it only considers 4 features per tree."
   ]
  },
  {
   "cell_type": "markdown",
   "metadata": {
    "id": "GqN02H_YPwr0"
   },
   "source": [
    "\n",
    "\n",
    "---\n",
    "\n"
   ]
  },
  {
   "cell_type": "markdown",
   "metadata": {
    "id": "In8XkuW_MgVV"
   },
   "source": [
    "<a name=\"task-12\"></a>\n",
    "\n",
    "## (1.2) Multi-layer Perceptron [(index)](#index-task-12)"
   ]
  },
  {
   "cell_type": "markdown",
   "metadata": {},
   "source": [
    "Define a function that returns the r squared score"
   ]
  },
  {
   "cell_type": "code",
   "execution_count": 46,
   "metadata": {},
   "outputs": [],
   "source": [
    "def r2_score(y, y_hat):\n",
    "\n",
    "    y = y.reshape(y_hat.shape)\n",
    "    y_bar = y.mean()\n",
    "\n",
    "    ss_tot = ((y - y_bar)**2).sum()\n",
    "    ss_res = ((y - y_hat)**2).sum()\n",
    "    return 1 - (ss_res/ss_tot)"
   ]
  },
  {
   "cell_type": "markdown",
   "metadata": {
    "id": "R1aYyFt7MgeQ"
   },
   "source": [
    "<a name=\"task-121\"></a>\n",
    "\n",
    "### (1.2.1) [(index)](#index-task-121)"
   ]
  },
  {
   "cell_type": "markdown",
   "metadata": {},
   "source": [
    "Define a function regarding the Dense Layer that returns the layer preactivations."
   ]
  },
  {
   "cell_type": "code",
   "execution_count": 47,
   "metadata": {},
   "outputs": [],
   "source": [
    "def dense(X, W, b):\n",
    "    a = np.vstack([W @ x + b for x in X])\n",
    "    return a"
   ]
  },
  {
   "cell_type": "markdown",
   "metadata": {},
   "source": [
    "Define the activation function."
   ]
  },
  {
   "cell_type": "code",
   "execution_count": 48,
   "metadata": {},
   "outputs": [],
   "source": [
    "def act_func(x):\n",
    "    return np.arctan(x) * np.log(np.abs(x) + 1)"
   ]
  },
  {
   "cell_type": "markdown",
   "metadata": {},
   "source": [
    "Plot the Activation Function"
   ]
  },
  {
   "cell_type": "code",
   "execution_count": 49,
   "metadata": {},
   "outputs": [
    {
     "data": {
      "text/plain": [
       "[<matplotlib.lines.Line2D at 0x24260516970>]"
      ]
     },
     "execution_count": 49,
     "metadata": {},
     "output_type": "execute_result"
    },
    {
     "data": {
      "image/png": "[encoded data removed]",
      "text/plain": [
       "<Figure size 864x576 with 1 Axes>"
      ]
     },
     "metadata": {
      "needs_background": "light"
     },
     "output_type": "display_data"
    }
   ],
   "source": [
    "plt.figure(figsize=(12, 8))\n",
    "plt.plot( np.linspace(-7,7,100),act_func(np.linspace(-7,7,100)))"
   ]
  },
  {
   "cell_type": "markdown",
   "metadata": {},
   "source": [
    "By analysing the plot of the activation function we observe that it may have the ability to classify data due to the somewhat asymptotic tails which are effectively reducing the weightings assigned to values that deviate from 0."
   ]
  },
  {
   "cell_type": "markdown",
   "metadata": {},
   "source": [
    "Define a function that returns the grad of the activation function"
   ]
  },
  {
   "cell_type": "code",
   "execution_count": 51,
   "metadata": {},
   "outputs": [],
   "source": [
    "def grad_act_func(x):\n",
    "    return  ((x*np.arctan(x)) / (np.abs(x) * (np.abs(x) + 1))) + (np.log(np.abs(x) + 1) / (x**2 + 1))"
   ]
  },
  {
   "cell_type": "code",
   "execution_count": 52,
   "metadata": {},
   "outputs": [],
   "source": [
    "act_table = {\n",
    "    \"tomato\": act_func,\n",
    "    \"identity\": lambda x: x  \n",
    "}\n",
    "\n",
    "# A lookup table for gradient of activation functions by their names.\n",
    "grad_act_table = {\n",
    "    \"tomato\": grad_act_func,\n",
    "    \"identity\": lambda x: np.ones_like(x)\n",
    "}"
   ]
  },
  {
   "cell_type": "code",
   "execution_count": 53,
   "metadata": {},
   "outputs": [],
   "source": [
    "class MLP:\n",
    "    def __init__(self, seed=42):\n",
    "        self.layers = []\n",
    "        self.rng = np.random.default_rng(seed)\n",
    "\n",
    "    def n_parameters(self):\n",
    "        \"\"\"Return the total number of parameters of weights and biases.\"\"\"\n",
    "        return sum(l[\"b\"].size + l[\"W\"].size for l in self.layers)\n",
    "\n",
    "    def n_layers(self):\n",
    "        \"\"\"Return current number of MLP layers.\"\"\"\n",
    "        return len(self.layers)\n",
    "\n",
    "    def layer_dim(self, index):\n",
    "        \"\"\"Retrieve the dimensions of the MLP layer at `index`.\"\"\"\n",
    "        return self.layers[index][\"W\"].shape\n",
    "\n",
    "    def add_layer(self, in_dim, out_dim, activation=\"identity\"):\n",
    "        \"\"\"Add fully connected layer to MLP.\n",
    "\n",
    "        Parameters:\n",
    "            in_dim (int): The output dimension of the layer.\n",
    "            out_dim (int): The input dimension of the layer.\n",
    "            activation (str): The activation function name.\n",
    "        \"\"\"\n",
    "        # check if input-dimension matches output-dimension of previous layer\n",
    "        if self.n_layers() > 0:\n",
    "            last_out_dim, _ = self.layer_dim(-1)\n",
    "            assert in_dim == last_out_dim, f\"Input-dimension {in_dim} does not match output-dimension {last_out_dim} of previous layer.\"\n",
    "\n",
    "        # the first layer, in our convention illustrated, does not apply activation on the input features X.\n",
    "        if self.n_layers() == 0:\n",
    "            assert activation == \"identity\", \"Should not apply activations on the input features X, use Identity function for the first layer.\"\n",
    "\n",
    "\n",
    "        # store each layer as a dictionary in the list, as shown in the\n",
    "        # attached diagram.\n",
    "        self.layers.append({\n",
    "            # only for debugging.\n",
    "            \"index\": len(self.layers),\n",
    "            # apply Glorot initialisation for weights.\n",
    "            \"W\": self.rng.normal(size=(out_dim, in_dim)) * np.sqrt(2. / (in_dim + out_dim)),\n",
    "            # initialise bias vector with zeros.\n",
    "            \"b\": np.zeros(out_dim), ## <-- SOLUTION\n",
    "            \"vW\": np.zeros((out_dim, in_dim)),\n",
    "            \"vb\": np.zeros(out_dim),\n",
    "            # store the activation function (as string)\n",
    "            \"activation\": activation\n",
    "        })\n",
    "\n",
    "    def predict(self, X):\n",
    "        # We assume that we work with a batch of examples (ndim==2).\n",
    "        if X.ndim == 1:\n",
    "            # If one example passed, add a dummy dimension for the batch.\n",
    "            X = X.reshape(1, -1)\n",
    "\n",
    "        # store pre- and post-activations in list\n",
    "        forward_pass = [{\"index\": 0, \"a\": X, \"h\": X}]\n",
    "\n",
    "        # iterate through hidden layers\n",
    "        for k in range(1, len(self.layers)):\n",
    "            # compute pre-activations\n",
    "            a = dense(forward_pass[k - 1][\"h\"], self.layers[k - 1][\"W\"], self.layers[k - 1][\"b\"])\n",
    "            activation = act_table[self.layers[k][\"activation\"]]\n",
    "            forward_pass.append({\"index\": k, \"a\" : a, \"h\" : activation(a)})\n",
    "\n",
    "        y_hat = dense(forward_pass[-1][\"h\"], self.layers[-1][\"W\"], self.layers[-1][\"b\"])\n",
    "        # predicted target is output of last layer\n",
    "        return y_hat, forward_pass"
   ]
  },
  {
   "cell_type": "markdown",
   "metadata": {},
   "source": [
    "Define a Loss function (MSE)"
   ]
  },
  {
   "cell_type": "code",
   "execution_count": 54,
   "metadata": {},
   "outputs": [],
   "source": [
    "def mse_loss(y_true, y_pred):\n",
    "    assert y_true.size == y_pred.size, \"Ground-truth and predictions have different dimensions.\"\n",
    "\n",
    "    # Adjustment to avoid subtraction between (K,) and (1, K) arrays.\n",
    "    y_true = y_true.reshape(y_pred.shape)\n",
    "\n",
    "\n",
    "    return np.mean((y_true - y_pred)**2, keepdims=True) ## <-- SOLUTION"
   ]
  },
  {
   "cell_type": "markdown",
   "metadata": {},
   "source": [
    "Define the grad of the Loss function"
   ]
  },
  {
   "cell_type": "code",
   "execution_count": 55,
   "metadata": {},
   "outputs": [],
   "source": [
    "def grad_mse_loss(y_true, y_pred):\n",
    "    # Adjustment to avoid subtraction between (K,) and (1, K) arrays.\n",
    "    y_true = y_true.reshape(y_pred.shape)\n",
    "\n",
    "    return 2.0 * (y_pred - y_true) / y_true.size ## <-- SOLUTION"
   ]
  },
  {
   "cell_type": "markdown",
   "metadata": {},
   "source": [
    "Define a backpropogate function"
   ]
  },
  {
   "cell_type": "code",
   "execution_count": 56,
   "metadata": {},
   "outputs": [],
   "source": [
    "def backpropagate(layers, forward_pass, delta_output):\n",
    "    # Create a list that will contain the gradients of all the layers.\n",
    "    delta = delta_output\n",
    "\n",
    "    assert len(layers) == len(forward_pass), \"Number of layers is expected to match the number of forward pass layers\"\n",
    "\n",
    "    # Iterate on layers backwardly, from output to input.\n",
    "    # Calculate gradients w.r.t. weights and biases of each level and store in list of dictionaries.\n",
    "    gradients = []\n",
    "    for layer, forward_computes in reversed(list(zip(layers, forward_pass))):\n",
    "        assert forward_computes[\"index\"] == layer[\"index\"], \"Mismatch in the index.\"\n",
    "\n",
    "        h = forward_computes[\"h\"]\n",
    "        assert delta.shape[0] == h.shape[0], \"Mismatch in the batch dimension.\"\n",
    "\n",
    "\n",
    "        gradients.append({\"W\" : delta.T @ h, \n",
    "                          \"b\" : delta.sum(axis=0)}) \n",
    "\n",
    "        # Update the delta for the next iteration\n",
    "        grad_activation_f = grad_act_table[layer[\"activation\"]]\n",
    "        grad_activation = grad_activation_f(forward_computes[\"a\"])\n",
    "\n",
    "        # Calculate the delta for the backward layer.\n",
    "        delta = np.stack([np.diag(gi) @ layer[\"W\"].T @ di\n",
    "                           for (gi, di) in zip(grad_activation, delta)])\n",
    "\n",
    "\n",
    "    # Return now ordered list matching the layers.\n",
    "    return list(reversed(gradients))"
   ]
  },
  {
   "cell_type": "markdown",
   "metadata": {},
   "source": [
    "Define a function for a Stochastic Gradient Descent step "
   ]
  },
  {
   "cell_type": "code",
   "execution_count": 57,
   "metadata": {},
   "outputs": [],
   "source": [
    "def sgd_step(X, y, mlp, momentum=False, learning_rate = 5e-5, beta = 0.4):\n",
    "    # Compute the forward pass.\n",
    "    y_hat, forward_pass = mlp.predict(X) ## <-- SOLUTION.\n",
    "\n",
    "    # Compute the partial derivative of the loss w.r.t. to predictions `y_hat`.\n",
    "    delta_output = grad_mse_loss(y, y_hat) ## <-- SOLUTION\n",
    "\n",
    "    # Apply backpropagation algorithm to compute the gradients of the MLP parameters.\n",
    "    gradients = backpropagate(mlp.layers, forward_pass, delta_output) \n",
    "\n",
    "    # mlp.layers and gradients are symmetric, as shown in the figure.\n",
    "    updated_layers = []\n",
    "    for layer, grad in zip(mlp.layers, gradients):\n",
    "        if momentum:\n",
    "            vW = beta * layer[\"vW\"] + learning_rate * grad[\"W\"]\n",
    "            vb = beta * layer[\"vb\"] + learning_rate * grad[\"b\"]\n",
    "            W = layer[\"W\"] - vW ## <-- SOLUTION.\n",
    "            b = layer[\"b\"] - vb ## <-- SOLUTION.\n",
    "            updated_layers.append({\"W\": W, \"b\": b, \"vW\":vW, \"vb\":vb,\n",
    "                                # keep the activation function.\n",
    "                                \"activation\": layer[\"activation\"],\n",
    "                                # We use the index for asserts and debugging purposes only.\n",
    "                                \"index\": layer[\"index\"]})\n",
    "        else:\n",
    "            W = layer[\"W\"] - learning_rate * grad[\"W\"]\n",
    "            b = layer[\"b\"] - learning_rate * grad[\"b\"]\n",
    "            updated_layers.append({\"W\": W, \"b\": b,\n",
    "                                # keep the activation function.\n",
    "                                \"activation\": layer[\"activation\"],\n",
    "                                # We use the index for asserts and debugging purposes only.\n",
    "                                \"index\": layer[\"index\"]})\n",
    "    return updated_layers"
   ]
  },
  {
   "cell_type": "markdown",
   "metadata": {},
   "source": [
    "Define a Stochastic Gradient Descent function"
   ]
  },
  {
   "cell_type": "code",
   "execution_count": 58,
   "metadata": {},
   "outputs": [],
   "source": [
    "def sgd(X_train, y_train, X_test, y_test, mlp, momentum=False, learning_rate = 5e-5,\n",
    "        n_epochs=300, minibatchsize=8, seed=42):\n",
    "\n",
    "\n",
    "    # get random number generator\n",
    "    rng = np.random.default_rng(seed)\n",
    "\n",
    "    # compute number of iterations per epoch\n",
    "    n_iterations = int(len(y_train) / minibatchsize)\n",
    "\n",
    "    # store losses\n",
    "    losses_train = []\n",
    "    losses_test = []\n",
    "\n",
    "    epochs_bar = tqdm(range(n_epochs))\n",
    "    for i in epochs_bar:\n",
    "\n",
    "        # shuffle data\n",
    "        p = rng.permutation(len(y_train))\n",
    "        X_train_shuffled = X_train[p]\n",
    "        y_train_shuffled = y_train[p]\n",
    "\n",
    "        for j in range(n_iterations):\n",
    "            # get batch\n",
    "            X_batch = X_train_shuffled[j*minibatchsize : (j+1)*minibatchsize]\n",
    "            y_batch = y_train_shuffled[j*minibatchsize : (j+1)*minibatchsize]\n",
    "\n",
    "            # apply sgd step\n",
    "            updated_layers = sgd_step(X_batch, y_batch, mlp, momentum, learning_rate) ## <-- SOLUTION.\n",
    "\n",
    "            # update weights and biases of MLP\n",
    "            mlp.layers = updated_layers ## <-- SOLUTION.\n",
    "\n",
    "        # compute loss at the end of each epoch\n",
    "        y_hat_train, _ = mlp.predict(X_train)\n",
    "        losses_train.append(mse_loss(y_train, y_hat_train).squeeze())\n",
    "        y_hat_test, _ = mlp.predict(X_test)\n",
    "        losses_test.append(mse_loss(y_test, y_hat_test).squeeze())\n",
    "        epochs_bar.set_description(f'train_loss: {losses_train[-1]:.2f}, '\n",
    "                                   f'test_loss: {losses_test[-1]:.2f}, '\n",
    "                                   f'train_R^2: {r2_score(y_train, y_hat_train):.2f} '\n",
    "                                   f'test_R^2: {r2_score(y_test, y_hat_test):.2f} ')\n",
    "    return mlp, losses_train, losses_test"
   ]
  },
  {
   "cell_type": "markdown",
   "metadata": {},
   "source": [
    "Construct MLP and check no. of trainable parameters"
   ]
  },
  {
   "cell_type": "code",
   "execution_count": 59,
   "metadata": {},
   "outputs": [
    {
     "name": "stdout",
     "output_type": "stream",
     "text": [
      "Number of layers: 3\n",
      "Number of trainable parameters: 3251\n"
     ]
    }
   ],
   "source": [
    "my_MLP = MLP(seed=2)\n",
    "my_MLP.add_layer(12, 50)\n",
    "my_MLP.add_layer(50, 50, \"tomato\")\n",
    "my_MLP.add_layer(50, 1, \"tomato\")\n",
    "\n",
    "\n",
    "print(\"Number of layers:\", my_MLP.n_layers())\n",
    "print(\"Number of trainable parameters:\", my_MLP.n_parameters())"
   ]
  },
  {
   "cell_type": "code",
   "execution_count": 60,
   "metadata": {},
   "outputs": [
    {
     "name": "stdout",
     "output_type": "stream",
     "text": [
      "Number of weights between layers: 3150\n",
      "Number of weights within nodes: 101\n",
      "Total of weights: 3251\n"
     ]
    }
   ],
   "source": [
    "print(\"Number of weights between layers:\", 12*50 + 50*50 + 50*1)\n",
    "print(\"Number of weights within nodes:\", 50 + 50 + 1)\n",
    "print(\"Total of weights:\",12*50 + 50*50 + 50*1 + 50 + 50 + 1)\n"
   ]
  },
  {
   "cell_type": "markdown",
   "metadata": {},
   "source": []
  },
  {
   "cell_type": "code",
   "execution_count": 61,
   "metadata": {},
   "outputs": [
    {
     "data": {
      "application/vnd.jupyter.widget-view+json": {
       "model_id": "1416a1952f4f47a1b0c792d4d9da2a9d",
       "version_major": 2,
       "version_minor": 0
      },
      "text/plain": [
       "  0%|          | 0/300 [00:00<?, ?it/s]"
      ]
     },
     "metadata": {},
     "output_type": "display_data"
    }
   ],
   "source": [
    "n_epochs = 300\n",
    "mlp, losses_train, losses_test = sgd(X_nano_std.to_numpy(), y_nano_arr, X_nano_test_std.to_numpy(), y_nano_test.to_numpy(),\n",
    "                                     my_MLP, momentum=False, learning_rate = 5e-5,\n",
    "                                     n_epochs=n_epochs,\n",
    "                                     minibatchsize=8)"
   ]
  },
  {
   "cell_type": "markdown",
   "metadata": {},
   "source": []
  },
  {
   "cell_type": "code",
   "execution_count": 62,
   "metadata": {},
   "outputs": [
    {
     "data": {
      "image/png": "[encoded data removed]",
      "text/plain": [
       "<Figure size 864x576 with 1 Axes>"
      ]
     },
     "metadata": {
      "needs_background": "light"
     },
     "output_type": "display_data"
    },
    {
     "data": {
      "image/png": "[encoded data removed]",
      "text/plain": [
       "<Figure size 864x576 with 1 Axes>"
      ]
     },
     "metadata": {
      "needs_background": "light"
     },
     "output_type": "display_data"
    }
   ],
   "source": [
    "# plot training progress\n",
    "fig, ax = plt.subplots(figsize=(12, 8))\n",
    "ax.plot(np.arange(1,1+n_epochs),losses_train, label=\"Train\")\n",
    "ax.plot(np.arange(1,1+n_epochs),losses_test, label=\"Test\")\n",
    "ax.set(title=\"Losses vs Epochs\", xlabel = \"Epoch\", ylabel = \"MSE\") \n",
    "ax.legend()\n",
    "plt.show()\n",
    "\n",
    "# plot training progress\n",
    "fig, ax = plt.subplots(figsize=(12, 8))\n",
    "ax.plot(np.arange(4,1+n_epochs),losses_train[3:], label=\"Train\")\n",
    "ax.plot(np.arange(4,1+n_epochs),losses_test[3:], label=\"Test\")\n",
    "ax.set(title=\"Losses vs Epochs\", xlabel = \"Epoch\", ylabel = \"MSE\") \n",
    "ax.legend()\n",
    "plt.show()"
   ]
  },
  {
   "cell_type": "markdown",
   "metadata": {},
   "source": [
    "Calculate R-squared score and MSE"
   ]
  },
  {
   "cell_type": "code",
   "execution_count": 63,
   "metadata": {},
   "outputs": [
    {
     "name": "stdout",
     "output_type": "stream",
     "text": [
      "MSE when predicting standardised training data class:[[885.4434687]]\n",
      "R-squared value when predicting standardised training data class:0.8663939360085707\n",
      "MSE when predicting standardised test data class:[[2936.77010938]]\n",
      "R-squared value when standardised predicting test data class:0.5551760957439025\n"
     ]
    }
   ],
   "source": [
    "y_pred_mlp_test = mlp.predict(X_nano_test_std.to_numpy())[0]\n",
    "y_pred_mlp = mlp.predict(X_nano_std.to_numpy())[0]\n",
    "\n",
    "print(f'MSE when predicting standardised training data class:{mse_loss(y_nano.to_numpy(), y_pred_mlp)}')\n",
    "print(f'R-squared value when predicting standardised training data class:{r2_score(y_nano.to_numpy(), y_pred_mlp)}')\n",
    "print(f'MSE when predicting standardised test data class:{mse_loss(y_nano_test.to_numpy(), y_pred_mlp_test)}')\n",
    "print(f'R-squared value when standardised predicting test data class:{r2_score(y_nano_test.to_numpy(), y_pred_mlp_test)}')"
   ]
  },
  {
   "cell_type": "markdown",
   "metadata": {},
   "source": [
    "The generalisation power of a model refers to the ability to predict unseen data. In this case we refer to the MSE and R-squared scores when predicting the unseen test data where we observe better values when models considered in Q1.1. Albeit it is worth noting the smaller MSE's.\n",
    "\n",
    "Furthermore the discrepency between te scores for the predictions of the training and test data appear to suggest some level of overfitting potentially due to a lack of implementing methods such as early stop times."
   ]
  },
  {
   "cell_type": "markdown",
   "metadata": {
    "id": "5j1--gzeMgk9"
   },
   "source": [
    "<a name=\"task-122\"></a>\n",
    "\n",
    "### (1.2.2) [(index)](#index-task-122)"
   ]
  },
  {
   "cell_type": "markdown",
   "metadata": {},
   "source": []
  },
  {
   "cell_type": "code",
   "execution_count": 64,
   "metadata": {},
   "outputs": [
    {
     "name": "stdout",
     "output_type": "stream",
     "text": [
      "Number of layers: 3\n",
      "Number of trainable parameters: 3251\n"
     ]
    }
   ],
   "source": [
    "my_MLP2 = MLP(seed=2)\n",
    "my_MLP2.add_layer(12, 50)\n",
    "my_MLP2.add_layer(50, 50, \"tomato\")\n",
    "my_MLP2.add_layer(50, 1, \"tomato\")\n",
    "\n",
    "print(\"Number of layers:\", my_MLP2.n_layers())\n",
    "print(\"Number of trainable parameters:\", my_MLP2.n_parameters())"
   ]
  },
  {
   "cell_type": "markdown",
   "metadata": {},
   "source": []
  },
  {
   "cell_type": "code",
   "execution_count": 65,
   "metadata": {},
   "outputs": [
    {
     "data": {
      "application/vnd.jupyter.widget-view+json": {
       "model_id": "caece701dd0a4b03bb9386187feb6d81",
       "version_major": 2,
       "version_minor": 0
      },
      "text/plain": [
       "  0%|          | 0/300 [00:00<?, ?it/s]"
      ]
     },
     "metadata": {},
     "output_type": "display_data"
    }
   ],
   "source": [
    "n_epochs = 300\n",
    "mlp2, losses_train2, losses_test2 = sgd(X_nano_std.to_numpy(), y_nano.to_numpy(), X_nano_test_std.to_numpy(), y_nano_test.to_numpy(),\n",
    "                                     my_MLP2, momentum=True, learning_rate = 5e-5,\n",
    "                                     n_epochs=n_epochs,\n",
    "                                     minibatchsize=8) "
   ]
  },
  {
   "cell_type": "markdown",
   "metadata": {},
   "source": []
  },
  {
   "cell_type": "code",
   "execution_count": 66,
   "metadata": {},
   "outputs": [
    {
     "data": {
      "image/png": "[encoded data removed]",
      "text/plain": [
       "<Figure size 864x576 with 1 Axes>"
      ]
     },
     "metadata": {
      "needs_background": "light"
     },
     "output_type": "display_data"
    },
    {
     "data": {
      "image/png": "[encoded data removed]",
      "text/plain": [
       "<Figure size 864x576 with 1 Axes>"
      ]
     },
     "metadata": {
      "needs_background": "light"
     },
     "output_type": "display_data"
    }
   ],
   "source": [
    "# plot training progress\n",
    "fig, ax = plt.subplots(figsize=(12, 8))\n",
    "ax.plot(np.arange(1,301),losses_train, label=\"Train (No Momentum)\", color='blue', linestyle='dotted')\n",
    "ax.plot(np.arange(1,301),losses_test, label=\"Test (No Momentum)\", color = 'orange', linestyle='dotted')\n",
    "ax.plot(np.arange(1,301),losses_train2, label=\"Train (Momentum)\", color = 'blue', linestyle='solid')\n",
    "ax.plot(np.arange(1,301),losses_test2, label=\"Test (Momentum)\", color = 'orange', linestyle='solid')\n",
    "ax.set(title=\"Losses vs Epochs\", xlabel = \"Epoch\", ylabel = \"MSE\") \n",
    "ax.legend()\n",
    "plt.show()\n",
    "\n",
    "fig, ax = plt.subplots(figsize=(12, 8))\n",
    "ax.plot(np.arange(4,301),losses_train[3:], label=\"Train (No Momentum)\", color='blue', linestyle='dotted')\n",
    "ax.plot(np.arange(4,301),losses_test[3:], label=\"Test (No Momentum)\", color = 'orange', linestyle='dotted')\n",
    "ax.plot(np.arange(4,301),losses_train2[3:], label=\"Train (Momentum)\", color = 'blue', linestyle='solid')\n",
    "ax.plot(np.arange(4,301),losses_test2[3:], label=\"Test (Momentum)\", color = 'orange', linestyle='solid')\n",
    "ax.set(title=\"Losses vs Epochs\", xlabel = \"Epoch\", ylabel = \"MSE\") \n",
    "ax.legend()\n",
    "plt.show()"
   ]
  },
  {
   "cell_type": "markdown",
   "metadata": {},
   "source": []
  },
  {
   "cell_type": "code",
   "execution_count": 67,
   "metadata": {},
   "outputs": [
    {
     "name": "stdout",
     "output_type": "stream",
     "text": [
      "MSE when predicting standardised training data class:[[537.87460435]]\n",
      "R-squared value when predicting standardised training data class:0.9188391903622435\n",
      "MSE when predicting standardised test data class:[[2591.40385907]]\n",
      "R-squared value when standardised predicting test data class:0.607487702760471\n"
     ]
    }
   ],
   "source": [
    "y_pred_mlp_test2 = mlp2.predict(X_nano_test_std.to_numpy())[0]\n",
    "y_pred_mlp2 = mlp2.predict(X_nano_std.to_numpy())[0]\n",
    "\n",
    "print(f'MSE when predicting standardised training data class:{mse_loss(y_nano.to_numpy(), y_pred_mlp2)}')\n",
    "print(f'R-squared value when predicting standardised training data class:{r2_score(y_nano.to_numpy(), y_pred_mlp2)}')\n",
    "print(f'MSE when predicting standardised test data class:{mse_loss(y_nano_test.to_numpy(), y_pred_mlp_test2)}')\n",
    "print(f'R-squared value when standardised predicting test data class:{r2_score(y_nano_test.to_numpy(), y_pred_mlp_test2)}')"
   ]
  },
  {
   "cell_type": "markdown",
   "metadata": {},
   "source": [
    "By observing our plots we may gather that using momentum increases the speed of convergence of the model with respect to when momentum is not used. This may be explained by considering how momentum functions in that it takes averages of previous steps optimal directions, to reduce the overshooting from the zig-zagging effect in order to find a better approximation for the optimal descent directions for the parameters. This would suggest faster convergence as observed by the plot.\n",
    "\n",
    "\n",
    "We observe similar MSE values in the momentum method when compared to the random forests method and MLP without momentum, however they prove to be slightly better with the same behavior being observed for the R-squared scores. When considering the MSE and R-squared values on the training data we observe low MSE values and very high R-squared values which may be indicative overfitting potentially due to a lack of employing methods such as weight decay. It should also be noted that with a relatively small data set with respect to the number of features which may also serve as a culprit for overfitting when using MLP models which random forests are less susceptible to and the idea of having potentially overfit our MLP models are further supported by the large disparity between MSE values when predicting the training and testing data sets.\n",
    "\n",
    "\n",
    "With regards to the plots themselves we see the higher epochs result in lower MSE which suggest successful implementation of gradient descent. Furthermore the massive difference between the initial weightings and optimal weightings for the model enable large changes through back propagation allowing for faster convergence.\n",
    "\n",
    "\n",
    "To conclude, when comparing random forests, MLP with momentum and MLP without momentum, MLP with momentum appears to exhibit the best generalization power, which is to say that it exhibits the best ability to predict unseen data and is thus the best model.\n"
   ]
  },
  {
   "cell_type": "markdown",
   "metadata": {
    "id": "2MccP5-sMgqU"
   },
   "source": [
    "<a name=\"task-123\"></a>\n",
    "\n",
    "### (1.2.3) [(index)](#index-task-123)"
   ]
  },
  {
   "cell_type": "markdown",
   "metadata": {},
   "source": [
    "Define a function that extends features to include quadratic features"
   ]
  },
  {
   "cell_type": "code",
   "execution_count": 68,
   "metadata": {},
   "outputs": [],
   "source": [
    "def quad_lin_reg_extend(X):\n",
    "\n",
    "    a, b = np.triu_indices(np.shape(X)[1], 0)\n",
    "\n",
    "    return np.hstack([X, X[:,a] * X[:,b]])"
   ]
  },
  {
   "cell_type": "code",
   "execution_count": 69,
   "metadata": {},
   "outputs": [
    {
     "data": {
      "text/plain": [
       "(558, 90)"
      ]
     },
     "execution_count": 69,
     "metadata": {},
     "output_type": "execute_result"
    }
   ],
   "source": [
    "quad_lin_reg_extend(X_nano_std.to_numpy()).shape"
   ]
  },
  {
   "cell_type": "markdown",
   "metadata": {},
   "source": [
    "Define a function that returns optimised parameters using ridge regression."
   ]
  },
  {
   "cell_type": "code",
   "execution_count": 70,
   "metadata": {},
   "outputs": [],
   "source": [
    "def ridge_estimate(X, y, penalty):\n",
    "\n",
    "    N, D = X.shape\n",
    "\n",
    "    X_aug = np.hstack([np.ones((N,1)), X]) # augmented training inputs of size N x (D+1)\n",
    "    \n",
    "    N_aug, D_aug = X_aug.shape\n",
    "    \n",
    "    I = np.identity(D_aug)\n",
    "    \n",
    "    I[0] = 0.0 # penalty excludes the bias term.\n",
    "    \n",
    "    beta_ridge = np.linalg.solve(X_aug.T @ X_aug + penalty * I, X_aug.T @ y) ## <-- SOLUTION\n",
    "    \n",
    "    return beta_ridge"
   ]
  },
  {
   "cell_type": "markdown",
   "metadata": {},
   "source": [
    "Plot the ridge regression coefficients for Linear regression wth Quadratic basis Functions  "
   ]
  },
  {
   "cell_type": "code",
   "execution_count": 71,
   "metadata": {},
   "outputs": [
    {
     "data": {
      "image/png": "[encoded data removed]",
      "text/plain": [
       "<Figure size 864x576 with 1 Axes>"
      ]
     },
     "metadata": {
      "needs_background": "light"
     },
     "output_type": "display_data"
    }
   ],
   "source": [
    "fig, ax = plt.subplots(figsize=(12, 8))\n",
    "H = len(quad_lin_reg_extend(X_nano_std.to_numpy())[1])\n",
    "penalties = [0.0001, 1, 100]\n",
    "for penalty in penalties:\n",
    "    y_pred = ridge_estimate(quad_lin_reg_extend(X_nano_std.to_numpy()), y_nano.to_numpy(), penalty)\n",
    "    ax.plot(np.arange(0, 90+1), y_pred, label=f\"Penalty: {penalty}\")\n",
    "\n",
    "ax.legend()\n",
    "ax.set_xlabel='Quadratic Basis Function Coefficients (Indexed)'\n",
    "ax.set_ylabel='Beta Coefficients'\n",
    "plt.show()"
   ]
  },
  {
   "cell_type": "markdown",
   "metadata": {},
   "source": [
    "The penalty determines how high variance between different features is penalised. A higher penalty values will penalise greater discrepencies in variation between features which should ultimately lead to lower coefficients. This has been reflected in our plot where our Beta coefficients are scaled down significantly when considering high penalties."
   ]
  },
  {
   "cell_type": "markdown",
   "metadata": {},
   "source": [
    "Implement a function that returns a cross validation score."
   ]
  },
  {
   "cell_type": "code",
   "execution_count": 72,
   "metadata": {},
   "outputs": [],
   "source": [
    "def cross_validation_score_rr(X_train, y_train, folds, penalty, quadratic = False):\n",
    "    scores = []\n",
    "    for i in range(len(folds)):\n",
    "            # choose the indexes corresponding to the ith fold\n",
    "        val_indexes = folds[i]\n",
    "\n",
    "        # the training set indexes consist of all indexes not included in the val set indexes - so we use the set operator to remove them\n",
    "        train_indexes = list(set(range(y_train.shape[0])) - set(val_indexes))\n",
    "\n",
    "        # X_train_i = X_train.loc[train_indexes]\n",
    "        # y_train_i = y_train.loc[train_indexes]\n",
    "        X_train_i = X_train[train_indexes,:]\n",
    "        y_train_i = y_train[train_indexes]\n",
    "\n",
    "        # X_val_i = X_train.loc[val_indexes]\n",
    "        # y_val_i = y_train.loc[val_indexes]\n",
    "        X_val_i = X_train[val_indexes,:] \n",
    "        y_val_i = y_train[val_indexes]\n",
    "        \n",
    "        if quadratic == True:\n",
    "          beta = ridge_estimate(quad_lin_reg_extend(X_train_i), y_train_i, penalty)\n",
    "          score_itest = mse(y_val_i, np.hstack([np.ones((X_val_i.shape[0],1)), quad_lin_reg_extend(X_val_i)]) @ beta)\n",
    "\n",
    "        else:\n",
    "          beta = ridge_estimate(X_train_i, y_train_i, penalty)\n",
    "          score_itest = mse(y_val_i, np.hstack([np.ones((X_val_i.shape[0],1)), X_val_i]) @ beta)\n",
    "\n",
    "          \n",
    "        scores.append(score_itest)\n",
    "\n",
    "  # Return the average score\n",
    "    return np.mean(scores)"
   ]
  },
  {
   "cell_type": "markdown",
   "metadata": {},
   "source": [
    "Implement a function that chooses the best penalty"
   ]
  },
  {
   "cell_type": "code",
   "execution_count": 73,
   "metadata": {},
   "outputs": [],
   "source": [
    "def choose_best_penalty(X_train, y_train, folds_indexes, penalties, quadratic = False, printt = False):\n",
    "    \n",
    "    scores = []\n",
    "    \n",
    "    for penalty in penalties:\n",
    "\n",
    "        scores.append(cross_validation_score_rr(X_train, y_train, folds_indexes, penalty, quadratic = quadratic))\n",
    "        \n",
    "        if printt == True:\n",
    "            print(f'CV_ACC@l={penalty}: {scores[-1]:.3f}')\n",
    "    return scores"
   ]
  },
  {
   "cell_type": "markdown",
   "metadata": {},
   "source": [
    "Plot MSE against Penalties for Ridge Regression on the original features"
   ]
  },
  {
   "cell_type": "code",
   "execution_count": 74,
   "metadata": {},
   "outputs": [
    {
     "name": "stdout",
     "output_type": "stream",
     "text": [
      "Best penalty for Linear regression:  85.99381843535865\n"
     ]
    },
    {
     "data": {
      "image/png": "[encoded data removed]",
      "text/plain": [
       "<Figure size 432x288 with 1 Axes>"
      ]
     },
     "metadata": {
      "needs_background": "light"
     },
     "output_type": "display_data"
    }
   ],
   "source": [
    "penalties = np.logspace(-3, 3, 2000)\n",
    "\n",
    "folds_pen = cross_val_split(len(y_nano_arr), 5)\n",
    "#print(folds_pen)\n",
    "\n",
    "penalty_scores = choose_best_penalty(X_nano_std.to_numpy(), y_nano.to_numpy(), folds_pen, penalties)\n",
    "opt_penalty = penalties[np.argmin(penalty_scores)]\n",
    "print(\"Best penalty for Linear regression: \", opt_penalty)\n",
    "plt.axvline(opt_penalty, color='red', label = f'optimal λ : {opt_penalty}')\n",
    "plt.loglog(penalties, penalty_scores)\n",
    "plt.legend()\n",
    "plt.show()"
   ]
  },
  {
   "cell_type": "code",
   "execution_count": 75,
   "metadata": {},
   "outputs": [
    {
     "name": "stdout",
     "output_type": "stream",
     "text": [
      "r-squared for ridge regression using penalty on original features 0.2249440763481554\n",
      "MSE for ridge regression using penalty on original features [5116.99359656]\n"
     ]
    }
   ],
   "source": [
    "X_nano_test_std_arr = X_nano_test_std.to_numpy()\n",
    "X_Aug_test = np.hstack([np.ones((X_nano_test_std_arr.shape[0],1)),X_nano_test_std.to_numpy()])\n",
    "y_pred8 = X_Aug_test @ ridge_estimate(X_nano_test_std_arr, y_nano_test.to_numpy(),opt_penalty)\n",
    "thing2 = r2_score(y_nano_test.to_numpy(),y_pred8)\n",
    "thing3 = mse_loss(y_nano_test.to_numpy(),y_pred8)\n",
    "\n",
    "print(f'r-squared for ridge regression using penalty on original features {thing2}')\n",
    "print(f'MSE for ridge regression using penalty on original features {thing3}')\n"
   ]
  },
  {
   "cell_type": "markdown",
   "metadata": {},
   "source": [
    "Plot MSE against Penalties for Ridge Regression on the Quadratic Basis Function features"
   ]
  },
  {
   "cell_type": "code",
   "execution_count": 76,
   "metadata": {},
   "outputs": [
    {
     "name": "stdout",
     "output_type": "stream",
     "text": [
      "Best penalty for Linear regression:  229.44592035995024\n"
     ]
    },
    {
     "data": {
      "image/png": "[encoded data removed]",
      "text/plain": [
       "<Figure size 432x288 with 1 Axes>"
      ]
     },
     "metadata": {
      "needs_background": "light"
     },
     "output_type": "display_data"
    }
   ],
   "source": [
    "penalty_scores2 = choose_best_penalty(X_nano_std.to_numpy(), y_nano.to_numpy(), folds_pen, penalties, quadratic = True)\n",
    "opt_penalty2 = penalties[np.argmin(penalty_scores2)]\n",
    "print(\"Best penalty for Linear regression: \", opt_penalty2)\n",
    "plt.axvline(opt_penalty2, color='red', label = f'optimal λ : {opt_penalty2}')\n",
    "plt.loglog(penalties, penalty_scores2)\n",
    "plt.legend()\n",
    "plt.show()"
   ]
  },
  {
   "cell_type": "code",
   "execution_count": 77,
   "metadata": {},
   "outputs": [
    {
     "name": "stdout",
     "output_type": "stream",
     "text": [
      "r-squared for ridge regression using penalty on original features 0.14613222964006545\n",
      "MSE for ridge regression using penalty on original features [5637.31697276]\n"
     ]
    }
   ],
   "source": [
    "X_nano_test_std_arr2 = X_nano_test_std.to_numpy()\n",
    "X_Aug_test2 = np.hstack([np.ones((X_nano_test_std_arr2.shape[0],1)),X_nano_test_std.to_numpy()])\n",
    "y_pred9 = X_Aug_test2 @ ridge_estimate(X_nano_test_std_arr2, y_nano_test.to_numpy(),opt_penalty2)\n",
    "thing4 = r2_score(y_nano_test.to_numpy(),y_pred9)\n",
    "thing5 = mse_loss(y_nano_test.to_numpy(),y_pred9)\n",
    "\n",
    "print(f'r-squared for ridge regression using penalty on original features {thing4}')\n",
    "print(f'MSE for ridge regression using penalty on original features {thing5}')"
   ]
  },
  {
   "cell_type": "markdown",
   "metadata": {},
   "source": []
  },
  {
   "cell_type": "markdown",
   "metadata": {},
   "source": []
  },
  {
   "cell_type": "markdown",
   "metadata": {
    "id": "vzPd5qZZPzpM"
   },
   "source": [
    "\n",
    "\n",
    "---\n",
    "\n"
   ]
  },
  {
   "cell_type": "markdown",
   "metadata": {
    "id": "yJ1n70CNMguM"
   },
   "source": [
    "<a name=\"task-2\"></a>\n",
    "\n",
    "# (2) Task 2: Classification [(index)](#index-task-2)"
   ]
  },
  {
   "cell_type": "code",
   "execution_count": 78,
   "metadata": {},
   "outputs": [
    {
     "name": "stdout",
     "output_type": "stream",
     "text": [
      "(145, 12)\n",
      "(145, 11)\n",
      "(60, 11)\n"
     ]
    },
    {
     "data": {
      "text/html": [
       "<div>\n",
       "<style scoped>\n",
       "    .dataframe tbody tr th:only-of-type {\n",
       "        vertical-align: middle;\n",
       "    }\n",
       "\n",
       "    .dataframe tbody tr th {\n",
       "        vertical-align: top;\n",
       "    }\n",
       "\n",
       "    .dataframe thead th {\n",
       "        text-align: right;\n",
       "    }\n",
       "</style>\n",
       "<table border=\"1\" class=\"dataframe\">\n",
       "  <thead>\n",
       "    <tr style=\"text-align: right;\">\n",
       "      <th></th>\n",
       "      <th>2D Surface</th>\n",
       "      <th>Contour Size</th>\n",
       "      <th>Total Surface</th>\n",
       "      <th>Density</th>\n",
       "      <th>Diameter</th>\n",
       "      <th>Primary Axis</th>\n",
       "      <th>Shape Variation</th>\n",
       "      <th>Location</th>\n",
       "      <th>Eccentricity_Real</th>\n",
       "      <th>Eccentricity_Imag</th>\n",
       "      <th>Class</th>\n",
       "    </tr>\n",
       "  </thead>\n",
       "  <tbody>\n",
       "    <tr>\n",
       "      <th>135</th>\n",
       "      <td>3294.5</td>\n",
       "      <td>1147.075244</td>\n",
       "      <td>46929.5</td>\n",
       "      <td>0.070201</td>\n",
       "      <td>64.766409</td>\n",
       "      <td>288.832275</td>\n",
       "      <td>329.591522</td>\n",
       "      <td>0</td>\n",
       "      <td>3.370000e-17</td>\n",
       "      <td>0.549681</td>\n",
       "      <td>1</td>\n",
       "    </tr>\n",
       "    <tr>\n",
       "      <th>136</th>\n",
       "      <td>65.5</td>\n",
       "      <td>44.041630</td>\n",
       "      <td>81.5</td>\n",
       "      <td>0.803681</td>\n",
       "      <td>9.132206</td>\n",
       "      <td>5.336360</td>\n",
       "      <td>22.184971</td>\n",
       "      <td>2</td>\n",
       "      <td>2.470000e-16</td>\n",
       "      <td>4.035262</td>\n",
       "      <td>0</td>\n",
       "    </tr>\n",
       "    <tr>\n",
       "      <th>137</th>\n",
       "      <td>1104.0</td>\n",
       "      <td>178.994948</td>\n",
       "      <td>1456.5</td>\n",
       "      <td>0.757981</td>\n",
       "      <td>37.492085</td>\n",
       "      <td>27.980013</td>\n",
       "      <td>65.539291</td>\n",
       "      <td>4</td>\n",
       "      <td>1.300000e-16</td>\n",
       "      <td>2.118173</td>\n",
       "      <td>1</td>\n",
       "    </tr>\n",
       "    <tr>\n",
       "      <th>138</th>\n",
       "      <td>746.0</td>\n",
       "      <td>126.225396</td>\n",
       "      <td>846.5</td>\n",
       "      <td>0.881276</td>\n",
       "      <td>30.819421</td>\n",
       "      <td>24.991606</td>\n",
       "      <td>43.875553</td>\n",
       "      <td>1</td>\n",
       "      <td>8.840000e-17</td>\n",
       "      <td>1.442973</td>\n",
       "      <td>1</td>\n",
       "    </tr>\n",
       "    <tr>\n",
       "      <th>139</th>\n",
       "      <td>122204.5</td>\n",
       "      <td>3547.416636</td>\n",
       "      <td>222439.0</td>\n",
       "      <td>0.549384</td>\n",
       "      <td>394.456084</td>\n",
       "      <td>393.556366</td>\n",
       "      <td>649.100708</td>\n",
       "      <td>4</td>\n",
       "      <td>8.030000e-17</td>\n",
       "      <td>1.311587</td>\n",
       "      <td>1</td>\n",
       "    </tr>\n",
       "    <tr>\n",
       "      <th>140</th>\n",
       "      <td>61.5</td>\n",
       "      <td>31.899495</td>\n",
       "      <td>65.5</td>\n",
       "      <td>0.938931</td>\n",
       "      <td>8.848968</td>\n",
       "      <td>9.686973</td>\n",
       "      <td>12.779761</td>\n",
       "      <td>4</td>\n",
       "      <td>5.270000e-17</td>\n",
       "      <td>0.860512</td>\n",
       "      <td>0</td>\n",
       "    </tr>\n",
       "    <tr>\n",
       "      <th>141</th>\n",
       "      <td>1933.0</td>\n",
       "      <td>171.681239</td>\n",
       "      <td>1972.5</td>\n",
       "      <td>0.979975</td>\n",
       "      <td>49.610201</td>\n",
       "      <td>43.783520</td>\n",
       "      <td>57.397675</td>\n",
       "      <td>1</td>\n",
       "      <td>5.190000e-17</td>\n",
       "      <td>0.847685</td>\n",
       "      <td>1</td>\n",
       "    </tr>\n",
       "    <tr>\n",
       "      <th>142</th>\n",
       "      <td>1187.0</td>\n",
       "      <td>581.455844</td>\n",
       "      <td>1959.0</td>\n",
       "      <td>0.605921</td>\n",
       "      <td>38.875897</td>\n",
       "      <td>9.854265</td>\n",
       "      <td>277.515595</td>\n",
       "      <td>0</td>\n",
       "      <td>1.720000e-15</td>\n",
       "      <td>28.144217</td>\n",
       "      <td>1</td>\n",
       "    </tr>\n",
       "    <tr>\n",
       "      <th>143</th>\n",
       "      <td>8056.0</td>\n",
       "      <td>640.724959</td>\n",
       "      <td>13503.5</td>\n",
       "      <td>0.596586</td>\n",
       "      <td>101.277923</td>\n",
       "      <td>81.612198</td>\n",
       "      <td>212.267380</td>\n",
       "      <td>1</td>\n",
       "      <td>1.470000e-16</td>\n",
       "      <td>2.401004</td>\n",
       "      <td>1</td>\n",
       "    </tr>\n",
       "    <tr>\n",
       "      <th>144</th>\n",
       "      <td>613.0</td>\n",
       "      <td>154.710677</td>\n",
       "      <td>947.0</td>\n",
       "      <td>0.647307</td>\n",
       "      <td>27.937356</td>\n",
       "      <td>25.551823</td>\n",
       "      <td>48.472477</td>\n",
       "      <td>1</td>\n",
       "      <td>9.870000e-17</td>\n",
       "      <td>1.612051</td>\n",
       "      <td>1</td>\n",
       "    </tr>\n",
       "  </tbody>\n",
       "</table>\n",
       "</div>"
      ],
      "text/plain": [
       "     2D Surface  Contour Size  Total Surface   Density    Diameter  \\\n",
       "135      3294.5   1147.075244        46929.5  0.070201   64.766409   \n",
       "136        65.5     44.041630           81.5  0.803681    9.132206   \n",
       "137      1104.0    178.994948         1456.5  0.757981   37.492085   \n",
       "138       746.0    126.225396          846.5  0.881276   30.819421   \n",
       "139    122204.5   3547.416636       222439.0  0.549384  394.456084   \n",
       "140        61.5     31.899495           65.5  0.938931    8.848968   \n",
       "141      1933.0    171.681239         1972.5  0.979975   49.610201   \n",
       "142      1187.0    581.455844         1959.0  0.605921   38.875897   \n",
       "143      8056.0    640.724959        13503.5  0.596586  101.277923   \n",
       "144       613.0    154.710677          947.0  0.647307   27.937356   \n",
       "\n",
       "     Primary Axis  Shape Variation  Location  Eccentricity_Real  \\\n",
       "135    288.832275       329.591522         0       3.370000e-17   \n",
       "136      5.336360        22.184971         2       2.470000e-16   \n",
       "137     27.980013        65.539291         4       1.300000e-16   \n",
       "138     24.991606        43.875553         1       8.840000e-17   \n",
       "139    393.556366       649.100708         4       8.030000e-17   \n",
       "140      9.686973        12.779761         4       5.270000e-17   \n",
       "141     43.783520        57.397675         1       5.190000e-17   \n",
       "142      9.854265       277.515595         0       1.720000e-15   \n",
       "143     81.612198       212.267380         1       1.470000e-16   \n",
       "144     25.551823        48.472477         1       9.870000e-17   \n",
       "\n",
       "     Eccentricity_Imag  Class  \n",
       "135           0.549681      1  \n",
       "136           4.035262      0  \n",
       "137           2.118173      1  \n",
       "138           1.442973      1  \n",
       "139           1.311587      1  \n",
       "140           0.860512      0  \n",
       "141           0.847685      1  \n",
       "142          28.144217      1  \n",
       "143           2.401004      1  \n",
       "144           1.612051      1  "
      ]
     },
     "execution_count": 78,
     "metadata": {},
     "output_type": "execute_result"
    }
   ],
   "source": [
    "# Read Data\n",
    "cancer_data = pd.read_csv('./brain_cancer_samples.csv')\n",
    "cancer_data_test = pd.read_csv('./brain_cancer_test.csv')#\n",
    "\n",
    "# Check data\n",
    "print(cancer_data.shape)\n",
    "\n",
    "# Remove unnecessary Columns\n",
    "cancer_data.pop('Patient ID')\n",
    "cancer_data_test.pop('Patient ID')\n",
    "\n",
    "# Check Data\n",
    "print(cancer_data.shape)\n",
    "print(cancer_data_test.shape)\n",
    "cancer_data.tail(10)"
   ]
  },
  {
   "cell_type": "markdown",
   "metadata": {},
   "source": [
    "Here we have made the decision to remove patient ID's as this information appears to be irrelevant when considering the class of the data (prescence/ type of cancer). It may also be worth noting that we have minimal information regarding how location is measured as it is seemingly categorical. This may imply that particular areas of the body are grouped into a particular class for the locations however, we lack information on the distinction between locations. In particular we lack information as to how the distance between location classes is measured, e.g: are any two classes roughly equidistant from one another or is class 2 twice as far from class 0 as class 1 is from class 0. We have however decided to include location data in our features due to potential links to the class of the data, although no alternative measure has been imposed on this particular feature due to the lack of information regarding how it has been recorded."
   ]
  },
  {
   "cell_type": "markdown",
   "metadata": {
    "id": "snlMZuPqMgxd"
   },
   "source": [
    "<a name=\"task-21\"></a>\n",
    "\n",
    "## (2.1) k-Nearest Neighbours [(index)](#index-task-21)"
   ]
  },
  {
   "cell_type": "markdown",
   "metadata": {
    "id": "qVwRifs5Mg0s"
   },
   "source": [
    "<a name=\"task-211\"></a>\n",
    "\n",
    "### (2.1.1) [(index)](#index-task-211)"
   ]
  },
  {
   "cell_type": "markdown",
   "metadata": {},
   "source": [
    "Seperate Class of data from the Features"
   ]
  },
  {
   "cell_type": "code",
   "execution_count": 79,
   "metadata": {},
   "outputs": [],
   "source": [
    "# Features of sample data\n",
    "cancer_X = cancer_data.copy()\n",
    "\n",
    "# Class' of sample data\n",
    "cancer_y = cancer_X.pop('Class')\n",
    "\n",
    "# Features of sample data\n",
    "cancer_X_test = cancer_data_test.copy()\n",
    "\n",
    "# Class' of sample data\n",
    "cancer_y_test = cancer_X_test.pop('Class').to_numpy()\n",
    "\n",
    "#cancer_X_test\n",
    "cancer_X_test = cancer_X_test.to_numpy()"
   ]
  },
  {
   "cell_type": "markdown",
   "metadata": {},
   "source": [
    "Define a notion of distance: We shall utilise Euclidean distance"
   ]
  },
  {
   "cell_type": "code",
   "execution_count": 80,
   "metadata": {},
   "outputs": [],
   "source": [
    "def euclidian_distance(p, q):\n",
    "    return np.sqrt(np.sum((p-q)**2, axis=1))"
   ]
  },
  {
   "cell_type": "markdown",
   "metadata": {},
   "source": [
    "Define a function that returns us the K nearest neighbours using our chosen distance function"
   ]
  },
  {
   "cell_type": "code",
   "execution_count": 81,
   "metadata": {},
   "outputs": [],
   "source": [
    "# returns the indices of the k nearest points to the test set froim the training set\n",
    "def k_neighbours(X_train, X_test, distance, k=5, return_distance=False):\n",
    "    '''\n",
    "    Args:\n",
    "        X_train: our training set\n",
    "        X_test: our test set\n",
    "        k: the number of neighbours we choose\n",
    "        return_distance: determines whether we also output the associated distances of the k nearest neighbours to the point\n",
    "        distance: a function denoting how we define distance\n",
    "\n",
    "    Return:\n",
    "        neighbour_indices: the indices of the data points considered to be the K nearest neighbours\n",
    "        distances: the distances associated with the above indices from our chosen data points   \n",
    "    '''\n",
    "    dist = []\n",
    "    neigh_ind = []\n",
    "  \n",
    "    # an array with inputs denoting the distance between the ith entry of x_test and the jth entry of X-train\n",
    "    #print(X_test)\n",
    "    point_dist = [distance(x_test, X_train) for x_test in X_test] \n",
    "\n",
    "    # determine which k training points are closest to each test point - each row denotes a particular test point\n",
    "    for row in point_dist:\n",
    "        enum_neigh = enumerate(row)       # assigns an integer starting from 0 to each entry in the row - each entry now has two dimensions (indice, old entry) s.t old entry = distance from test_point\n",
    "        sorted_neigh = sorted(enum_neigh, key=lambda x: x[1])[:k]       # sorted sorts the input according to some key - the key controls how the entries are sorted (apply the key then do ascending order for the output)\n",
    "                                                                        # the key here is a lambda function - applied to the x. and return x[1] i.e: the old entry\n",
    "                                                                        # so we sort enum_neigh entries according to the values of the old entry, i.e: according to distance from the test point\n",
    "\n",
    "        ind_list = [tup[0] for tup in sorted_neigh]                       # returns the list of ordered indices indices of the closest point to the furthest point\n",
    "        dist_list = [tup[1] for tup in sorted_neigh]                      # returns the list of ordered distances - closest point to furthest point\n",
    "\n",
    "        dist.append(dist_list)                                            # should have an array telling us the distances to points arranged by closest \n",
    "        neigh_ind.append(ind_list)                                        # corresponding indices denoting what points\n",
    "   \n",
    "    # return distances together with indices of k nearest neighbours if the chosen input is TRUE\n",
    "    if return_distance:\n",
    "        return np.array(dist), np.array(neigh_ind)\n",
    "  \n",
    "    return np.array(neigh_ind)"
   ]
  },
  {
   "cell_type": "markdown",
   "metadata": {},
   "source": [
    "Define a function that predicts the class of some data using its k nearest neighbours from the training data"
   ]
  },
  {
   "cell_type": "code",
   "execution_count": 82,
   "metadata": {},
   "outputs": [],
   "source": [
    "def predict(X_train, y_train, X_test, k=5):\n",
    "  '''\n",
    "  Arg:\n",
    "    X_train: our training data's features\n",
    "    y_train: our training data's class'\n",
    "    X_test: data that we want to predict the class of\n",
    "    k: the number of neighbours we want to work with\n",
    "\n",
    "  Return:  \n",
    "    y_pred:a vector containng predictions of the classes of X_test\n",
    "  \n",
    "  '''\n",
    "\n",
    "  # Determine the k nearest neighbours of the x_test set using the x training set\n",
    "  neighbours = k_neighbours(X_train,X_test,euclidian_distance, k=k)\n",
    "\n",
    "  # now we need to predict the class of each y point using the y training set\n",
    "  y_pred = np.array([np.argmax(np.bincount(y_train[neighbour])) for neighbour in neighbours])                 \n",
    "  # we take the most frequently occuring ----- np.argmax\n",
    "  # class     ----- np.bincount\n",
    "  # from the neighbour points chosen from the training set     ------- y_train[neighbour]\n",
    "  # but we must consider all k neaarest neighbours for a given y prediction point - i.e: along each rows\n",
    "  # but also for every single y prediction - i.e: for every row\n",
    "\n",
    "  return y_pred"
   ]
  },
  {
   "cell_type": "markdown",
   "metadata": {},
   "source": [
    "Define a score function to evaluate how good our model is at predicting the class of our data"
   ]
  },
  {
   "cell_type": "code",
   "execution_count": 83,
   "metadata": {},
   "outputs": [],
   "source": [
    "def score_classify(X_train, y_train, X_test, y_test, predict_func, k=5):\n",
    "  \n",
    "  # predict the y values\n",
    "  y_pred = predict_func(X_train, y_train, X_test, k=k)\n",
    "\n",
    "  return np.mean(y_pred==y_test)"
   ]
  },
  {
   "cell_type": "markdown",
   "metadata": {},
   "source": [
    "We want to determine the optimal number of neighbours to utilise in our function so we employ T-fold cross validation.\n",
    "Define a function that returns scores for a given k and number of folds"
   ]
  },
  {
   "cell_type": "code",
   "execution_count": 84,
   "metadata": {},
   "outputs": [],
   "source": [
    "def cross_validation_score(X_train, y_train, folds, k, predict_func):\n",
    "  scores = []\n",
    "  for i in range(len(folds)):\n",
    "\n",
    "    # choose the indexes corresponding to the ith fold\n",
    "    val_indexes = folds[i]\n",
    "\n",
    "    # the training set indexes consist of all indexes not included in the val set indexes - so we use the set operator to remove them\n",
    "    train_indexes = list(set(range(y_train.shape[0])) - set(val_indexes))\n",
    "\n",
    "    \n",
    "    # Create training sets\n",
    "    X_train_i = X_train[train_indexes, :]\n",
    "    y_train_i = y_train[train_indexes]\n",
    "\n",
    "    # Create test sets\n",
    "    X_val_i = X_train[val_indexes, :] \n",
    "    y_val_i = y_train[val_indexes] \n",
    "\n",
    "    score_i = score_classify(X_train_i, y_train_i, X_val_i, y_val_i, predict_func, k=k) \n",
    "    scores.append(score_i)\n",
    "\n",
    "  # Return the average score\n",
    "  return np.mean(scores) "
   ]
  },
  {
   "cell_type": "markdown",
   "metadata": {},
   "source": [
    "Define a function that chooses the best k by comparing the accuracy of a range of k's"
   ]
  },
  {
   "cell_type": "code",
   "execution_count": 85,
   "metadata": {},
   "outputs": [],
   "source": [
    "def choose_best_k(X_train, y_train, folds, k_range, predict_func):\n",
    "  k_scores = np.zeros((len(k_range),))\n",
    "  \n",
    "  for i, k in enumerate(k_range):\n",
    "    k_scores[i] = cross_validation_score(X_train, y_train, folds, k, predict_func)\n",
    "    print(f'CV_ACC@k={k}: {k_scores[i]:.3f}')\n",
    "\n",
    "  best_k_index = np.argmax(k_scores)\n",
    "  \n",
    "  return k_range[best_k_index]"
   ]
  },
  {
   "cell_type": "markdown",
   "metadata": {},
   "source": [
    "Find the best k for our data set"
   ]
  },
  {
   "cell_type": "code",
   "execution_count": 86,
   "metadata": {},
   "outputs": [],
   "source": [
    "np.random.seed(4)\n",
    "# shuffling the rows in X and y\n",
    "cancer_data_shuff = cancer_data.sample(frac = 1)\n",
    "cancer_X_shuff = cancer_data_shuff[cancer_data_shuff.columns[:-1]].to_numpy()\n",
    "cancer_y_shuff = cancer_data_shuff[cancer_data_shuff.columns[-1]].to_numpy()"
   ]
  },
  {
   "cell_type": "code",
   "execution_count": 87,
   "metadata": {},
   "outputs": [
    {
     "name": "stdout",
     "output_type": "stream",
     "text": [
      "CV_ACC@k=1: 0.628\n",
      "CV_ACC@k=2: 0.634\n",
      "CV_ACC@k=3: 0.683\n",
      "CV_ACC@k=4: 0.655\n",
      "CV_ACC@k=5: 0.703\n",
      "CV_ACC@k=6: 0.662\n",
      "CV_ACC@k=7: 0.676\n",
      "CV_ACC@k=8: 0.676\n",
      "CV_ACC@k=9: 0.676\n",
      "CV_ACC@k=10: 0.648\n",
      "CV_ACC@k=11: 0.662\n",
      "CV_ACC@k=12: 0.634\n",
      "CV_ACC@k=13: 0.641\n",
      "CV_ACC@k=14: 0.648\n",
      "CV_ACC@k=15: 0.634\n",
      "CV_ACC@k=16: 0.621\n",
      "CV_ACC@k=17: 0.621\n",
      "CV_ACC@k=18: 0.607\n",
      "CV_ACC@k=19: 0.634\n",
      "CV_ACC@k=20: 0.634\n",
      "CV_ACC@k=21: 0.579\n",
      "CV_ACC@k=22: 0.607\n",
      "CV_ACC@k=23: 0.572\n",
      "CV_ACC@k=24: 0.579\n",
      "CV_ACC@k=25: 0.572\n",
      "CV_ACC@k=26: 0.579\n",
      "CV_ACC@k=27: 0.566\n",
      "CV_ACC@k=28: 0.559\n",
      "CV_ACC@k=29: 0.531\n",
      "CV_ACC@k=30: 0.538\n"
     ]
    },
    {
     "data": {
      "text/plain": [
       "'Best k is: 5'"
      ]
     },
     "execution_count": 87,
     "metadata": {},
     "output_type": "execute_result"
    }
   ],
   "source": [
    "\n",
    "\n",
    "# standardise our sample data\n",
    "cancer_X_shuff_std = standardise(cancer_X_shuff)\n",
    "\n",
    "# standardise our test data\n",
    "cancer_X_test_std = standardise(cancer_X_test, cancer_X_shuff)\n",
    "\n",
    "# Create 5 folds\n",
    "cancer_folds_indexes = np.split(np.arange(len(cancer_y_shuff)), 5)\n",
    "\n",
    "Best_K = choose_best_k(cancer_X_shuff_std, cancer_y_shuff, cancer_folds_indexes, np.arange(1, 31),predict)\n",
    "\n",
    "f'Best k is: {Best_K}'"
   ]
  },
  {
   "cell_type": "markdown",
   "metadata": {},
   "source": [
    "Define a function that returns true positives, true negatives, false positives and false negatives for a given class"
   ]
  },
  {
   "cell_type": "code",
   "execution_count": 88,
   "metadata": {},
   "outputs": [],
   "source": [
    "#function that returns the tp, tn, fp, fn for a given class\n",
    "def get_tp_tn_fp_fn(y_test, y_pred, class_label):\n",
    "\n",
    "    tp = np.sum((y_test==class_label) & (y_pred==class_label))\n",
    "\n",
    "    tn = np.sum((y_test!=class_label) & (y_pred!=class_label))\n",
    "\n",
    "    fp = np.sum((y_test!=class_label) & (y_pred==class_label))\n",
    "\n",
    "    fn = np.sum((y_test==class_label) & (y_pred!=class_label))\n",
    "    \n",
    "    return tp, tn, fp, fn"
   ]
  },
  {
   "cell_type": "markdown",
   "metadata": {},
   "source": [
    "Define a function that returns the precision, accuracy and class weighted accuracy for any given class"
   ]
  },
  {
   "cell_type": "code",
   "execution_count": 89,
   "metadata": {},
   "outputs": [],
   "source": [
    "def get_potatos(y_test, y_pred, class_labels, print_metrics = False):\n",
    "    macro_precision = 0\n",
    "    macro_accuracy = 0\n",
    "    class_weighted_precision = 0\n",
    "    class_weighted_accuracy = 0\n",
    "    weights = np.bincount(y_test)/len(y_test)\n",
    "    tp_sum = 0\n",
    "    fp_sum = 0\n",
    "    for class_label in class_labels:\n",
    "        tp, tn, fp, fn = get_tp_tn_fp_fn(y_test, y_pred, class_label)\n",
    "        macro_accuracy += (tp+tn)/(tp+tn+fp+fn)\n",
    "        macro_precision += tp/(tp+fp)\n",
    "        tp_sum += tp\n",
    "        fp_sum += fp\n",
    "        class_weighted_precision += tp/(tp+fp)*weights[class_label]\n",
    "        class_weighted_accuracy += (tp+tn)/(tp+tn+fp+fn)*weights[class_label]\n",
    "    macro_accuracy /= len(class_labels)                        \n",
    "    macro_precision /= len(class_labels)\n",
    "    micro_accuracy = np.sum(y_test==y_pred)/len(y_test)  \n",
    "    micro_precision = tp_sum/(tp_sum+fp_sum)\n",
    "\n",
    "    mp = macro_precision\n",
    "\n",
    "    if print_metrics == True:\n",
    "        print(f'macro precision = {macro_precision}')\n",
    "        print(f'micro precision = {micro_precision}')\n",
    "        print(f'class weighted precision = {class_weighted_precision}')\n",
    "        print(f'macro accuracy = {macro_accuracy}')\n",
    "        print(f'micro accuracy = {micro_accuracy}')\n",
    "        print(f'class weighted accuracy = {class_weighted_accuracy}')\n",
    "\n",
    "    return macro_precision, macro_accuracy, micro_precision, micro_accuracy, class_weighted_precision, class_weighted_accuracy"
   ]
  },
  {
   "cell_type": "code",
   "execution_count": 90,
   "metadata": {},
   "outputs": [],
   "source": [
    "y_test_pred = predict(cancer_X_shuff_std, cancer_y_shuff, cancer_X_test_std, k=Best_K)"
   ]
  },
  {
   "cell_type": "code",
   "execution_count": 91,
   "metadata": {},
   "outputs": [
    {
     "name": "stdout",
     "output_type": "stream",
     "text": [
      "macro precision = 0.753968253968254\n",
      "micro precision = 0.6833333333333333\n",
      "class weighted precision = 0.6908730158730159\n",
      "macro accuracy = 0.7888888888888888\n",
      "micro accuracy = 0.6833333333333333\n",
      "class weighted accuracy = 0.7294444444444445\n"
     ]
    }
   ],
   "source": [
    "info1 = get_potatos(cancer_y_test, y_test_pred, np.arange(0,3), print_metrics = True)"
   ]
  },
  {
   "cell_type": "markdown",
   "metadata": {},
   "source": [
    "Identify the minority class"
   ]
  },
  {
   "cell_type": "code",
   "execution_count": 92,
   "metadata": {},
   "outputs": [
    {
     "name": "stdout",
     "output_type": "stream",
     "text": [
      "Class counts are: [47 80 18]\n",
      "Minority class is 2\n"
     ]
    }
   ],
   "source": [
    "count_things = np.bincount(cancer_y_shuff)\n",
    "\n",
    "\n",
    "print('Class counts are:' ,np.bincount(cancer_y_shuff))\n",
    "print(f'Minority class is {np.argmin(count_things)}')"
   ]
  },
  {
   "cell_type": "markdown",
   "metadata": {},
   "source": [
    "Observing the counts of the class's it is quick to see that the minority class is 2 with class 1 significantly outweighing the other 2 class's.\n",
    "\n",
    "We observe relatively high macro precision and accuracy wth respect to the micro precision and accuracies which imply that the under represented classes (i.e: class 0 and 2) have relatively good precision and accuracy when compared to the majority class 1. This is as macro averages evenly weight classes and do not take into account the population of each class whilst micro-averages give even weighting on individuals and thus result in higher majority class representation. "
   ]
  },
  {
   "cell_type": "markdown",
   "metadata": {
    "id": "hrF3U23EMg3k"
   },
   "source": [
    "<a name=\"task-212\"></a>\n",
    "\n",
    "### (2.1.2) [(index)](#index-task-212)"
   ]
  },
  {
   "cell_type": "markdown",
   "metadata": {},
   "source": [
    "Implement Weighted KNN - suffices to change our predict function as the K nearest neighbours well remain unchanged"
   ]
  },
  {
   "cell_type": "code",
   "execution_count": 93,
   "metadata": {},
   "outputs": [],
   "source": [
    "def weighted_predict(X_train, y_train, X_test, k=5):\n",
    "  '''\n",
    "  Arg:\n",
    "    X_train: our training data's features\n",
    "    y_train: our training data's class'\n",
    "    X_test: data that we want to predict the class of\n",
    "    k: the number of neighbours we want to work with\n",
    "\n",
    "  Return:  \n",
    "    y_pred:a vector containng predictions of the classes of X_test\n",
    "  \n",
    "  '''\n",
    "\n",
    "  # Determine the k nearest neighbours of the x_test set using the x training set\n",
    "  distances,neighbours = k_neighbours(X_train,X_test,euclidian_distance, k=k, return_distance=True)\n",
    "\n",
    " # Determine the classes that appear in t neighbours\n",
    "  unique_values = np.unique(y_train[neighbours])\n",
    "  \n",
    "  # Calculate weights\n",
    "  eps = 1e-16\n",
    "  #weightss = 1/(distances+eps)**2\n",
    "  weightss = 1 - np.bincount(y_train, minlength = 3)/len(y_train)\n",
    "\n",
    "  \n",
    "  # now we need to predict the class of each y point using the y training set\n",
    "  #y_pred = np.array([np.argmax(np.bincount(y_train[neighbour],weights = weightss[i], minlength = 3)) for i,neighbour in enumerate(neighbours)]) \n",
    "  y_pred = np.array([np.argmax(weightss*np.bincount(y_train[neighbour], minlength = 3)) for i,neighbour in enumerate(neighbours)])                \n",
    "  \n",
    "  # we take the most frequently occuring ----- np.argmax\n",
    "  # class     ----- np.bincount\n",
    "  # from the neighbour points chosen from the training set     ------- y_train[neighbour]\n",
    "  # but we must consider all k neaarest neighbours for a given y prediction point - i.e: along each rows\n",
    "  # but also for every single y prediction - i.e: for every row\n",
    "\n",
    "  return y_pred"
   ]
  },
  {
   "cell_type": "markdown",
   "metadata": {},
   "source": [
    "This choice of weighting was chosen to balance out the imbalanced data set. In particular the weighting provides a higher weight to classes that have a smaller number of occurences within the data set and should thus hypothetically allow us to more accurately predict any minority classes. Our weights are 1 - frequency for each class."
   ]
  },
  {
   "cell_type": "markdown",
   "metadata": {},
   "source": [
    "Compute a weighted KNN model and its' associated metrics"
   ]
  },
  {
   "cell_type": "code",
   "execution_count": 94,
   "metadata": {},
   "outputs": [
    {
     "name": "stdout",
     "output_type": "stream",
     "text": [
      "macro precision = 0.641959972394755\n",
      "micro precision = 0.6333333333333333\n",
      "class weighted precision = 0.6545893719806763\n",
      "macro accuracy = 0.7555555555555555\n",
      "micro accuracy = 0.6333333333333333\n",
      "class weighted accuracy = 0.6930555555555556\n"
     ]
    }
   ],
   "source": [
    "y_test_pred_w = weighted_predict(cancer_X_shuff_std, cancer_y_shuff, cancer_X_test_std,k=Best_K)\n",
    "info_w = get_potatos(cancer_y_test, y_test_pred_w, np.arange(0,3), print_metrics=True)"
   ]
  },
  {
   "cell_type": "code",
   "execution_count": 95,
   "metadata": {},
   "outputs": [
    {
     "data": {
      "text/plain": [
       "0.6827586206896552"
      ]
     },
     "execution_count": 95,
     "metadata": {},
     "output_type": "execute_result"
    }
   ],
   "source": [
    "cross_validation_score(cancer_X_shuff_std, cancer_y_shuff, cancer_folds_indexes, Best_K, weighted_predict)"
   ]
  },
  {
   "cell_type": "markdown",
   "metadata": {},
   "source": [
    "By analysing the metrics of the weighted KNN model and the KNN model we observe that weighted KNN does marginally worse in terms of all aspects of the defined metrics. suggesting that weighted KNN using these particular class weights is a worse model in general.However it is worth noting that we maintain a high macro accuracy with it experiencing a relatively small drop with respect to the other metrics in comparison to the KNN metrics. "
   ]
  },
  {
   "cell_type": "markdown",
   "metadata": {
    "id": "sIUs15tlMg9c"
   },
   "source": [
    "<a name=\"task-213\"></a>\n",
    "\n",
    "### (2.1.3) [(index)](#index-task-213)"
   ]
  },
  {
   "cell_type": "markdown",
   "metadata": {},
   "source": [
    "2-step prediction"
   ]
  },
  {
   "cell_type": "code",
   "execution_count": 96,
   "metadata": {},
   "outputs": [],
   "source": [
    "def predict_2step(cancer_data_training, cancer_data_testing):\n",
    "\n",
    "    cancer_data_no2 = cancer_data.copy()\n",
    "    cancer_data_no2.loc[cancer_data_no2['Class']==2, 'Class'] = 1\n",
    "\n",
    "    cancer_data_test_no2 = cancer_data_test.copy()\n",
    "    cancer_data_test_no2.loc[cancer_data_test_no2['Class']==2, 'Class'] = 1\n",
    "\n",
    "    # Features and Class of test data without Class 2\n",
    "    cancer_X_test_no2 = cancer_data_test_no2.copy()\n",
    "    cancer_y_test_no2 = cancer_X_test_no2.pop('Class').to_numpy()\n",
    "    cancer_X_test_no2 = cancer_X_test_no2.to_numpy()\n",
    "\n",
    "    # shuffling the data points and create X(features) and y(Class)\n",
    "    cancer_data_no2_shuff = cancer_data_no2.sample(frac = 1)\n",
    "    cancer_X_no2_shuff = cancer_data_no2_shuff[cancer_data_no2_shuff.columns[:-1]].to_numpy()\n",
    "    cancer_y_no2_shuff = cancer_data_no2_shuff[cancer_data_no2_shuff.columns[-1]].to_numpy()\n",
    "\n",
    "    # standardise our sample data\n",
    "    cancer_X_no2_shuff_std = standardise(cancer_X_no2_shuff)\n",
    "\n",
    "    # standardise our test data\n",
    "    cancer_X_test_no2_std = standardise(cancer_X_test_no2,cancer_X_no2_shuff)\n",
    "\n",
    "\n",
    "    # Define a data set discluding data points with class = 0\n",
    "    cancer_data_no0 = cancer_data.copy()\n",
    "    cancer_data_no0 = cancer_data_no0.drop(cancer_data_no0[cancer_data_no0['Class']==0].index)\n",
    "\n",
    "    cancer_data_test_no0 = cancer_data_test.copy()\n",
    "    cancer_data_test_no0 = cancer_data_test_no0.drop(cancer_data_test_no0[cancer_data_test_no0['Class']==0].index)\n",
    "\n",
    "    # Features and Class of test data discluding data points with class 0\n",
    "    cancer_X_test_no0 = cancer_data_test_no0.copy()\n",
    "    cancer_y_test_no0 = cancer_X_test_no0.pop('Class').to_numpy()\n",
    "    cancer_X_test_no0 = cancer_X_test_no0.to_numpy()\n",
    "\n",
    "    # shuffling the data points and create X(features) and y(Class)\n",
    "    cancer_data_no0_shuff = cancer_data_no0.sample(frac = 1)\n",
    "    cancer_X_no0_shuff = cancer_data_no0_shuff[cancer_data_no2_shuff.columns[:-1]].to_numpy()\n",
    "    cancer_y_no0_shuff = cancer_data_no0_shuff[cancer_data_no2_shuff.columns[-1]].to_numpy()\n",
    "\n",
    "    # standardise our sample data\n",
    "    cancer_X_no0_shuff_std = standardise(cancer_X_no0_shuff)\n",
    "\n",
    "    # standardise our test data\n",
    "    cancer_X_test_no0_std = standardise(cancer_X_test_no0,cancer_X_no0_shuff)\n",
    "\n",
    "\n",
    "    # Determine \n",
    "    y_test_pred_no2 = predict(cancer_X_no2_shuff_std, cancer_y_no2_shuff, cancer_X_test_no2_std, k=1)\n",
    "\n",
    "    preds = y_test_pred_no2\n",
    "    indices = np.argwhere(y_test_pred_no2 == 1)\n",
    "    indices = indices.reshape(len(indices))\n",
    "    preds[indices] = predict(cancer_X_no0_shuff_std, cancer_y_no0_shuff,cancer_X_test_std[indices],k=1)\n",
    "\n",
    "    return preds "
   ]
  },
  {
   "cell_type": "code",
   "execution_count": 97,
   "metadata": {},
   "outputs": [],
   "source": [
    "step_preds = predict_2step(cancer_data, cancer_data_test)"
   ]
  },
  {
   "cell_type": "markdown",
   "metadata": {},
   "source": [
    "Check Metrics using 2-step"
   ]
  },
  {
   "cell_type": "code",
   "execution_count": 98,
   "metadata": {},
   "outputs": [
    {
     "name": "stdout",
     "output_type": "stream",
     "text": [
      "macro precision = 0.7914230019493177\n",
      "micro precision = 0.7333333333333333\n",
      "class weighted precision = 0.7451754385964913\n",
      "macro accuracy = 0.8222222222222223\n",
      "micro accuracy = 0.7333333333333333\n",
      "class weighted accuracy = 0.7783333333333333\n"
     ]
    }
   ],
   "source": [
    "info_2s = get_potatos(cancer_y_test, step_preds, np.arange(0,3), print_metrics= True)"
   ]
  },
  {
   "cell_type": "markdown",
   "metadata": {},
   "source": [
    "The two step model is the best model with respect to the six metrics with their being somewhat even improvements accross the board.This suggestests that the model improved at getting true positives and true negatives in general as opposed to improving at producing any individual class.\n",
    "\n",
    "This coincides with our general understanding of what two step is. It is in general easier to seperate between two classes at a time (i.e: between cancer and not cancer) than it is to sort into 3 seperate classes."
   ]
  },
  {
   "cell_type": "markdown",
   "metadata": {
    "id": "X6Zz2bcMP6Wk"
   },
   "source": [
    "\n",
    "\n",
    "---\n",
    "\n"
   ]
  },
  {
   "cell_type": "markdown",
   "metadata": {
    "id": "J0K6bbpHPUYE"
   },
   "source": [
    "<a name=\"task-22\"></a>\n",
    "\n",
    "## (2.2) Logistic regression vs kernel logistic regression [(index)](#index-task-22)"
   ]
  },
  {
   "cell_type": "code",
   "execution_count": 99,
   "metadata": {},
   "outputs": [],
   "source": [
    "np.random.seed(2)\n",
    "\n",
    "cancer_data_no2 = cancer_data.copy()\n",
    "cancer_data_no2.loc[cancer_data_no2['Class']==2, 'Class'] = 1\n",
    "\n",
    "cancer_data_test_no2 = cancer_data_test.copy()\n",
    "cancer_data_test_no2.loc[cancer_data_test_no2['Class']==2, 'Class'] = 1\n",
    "\n",
    "# Features and Class of test data without Class 2\n",
    "cancer_X_test_no2 = cancer_data_test_no2.copy()\n",
    "cancer_y_test_no2 = cancer_X_test_no2.pop('Class').to_numpy()\n",
    "cancer_X_test_no2 = cancer_X_test_no2.to_numpy()\n",
    "\n",
    "# shuffling the data points and create X(features) and y(Class)\n",
    "cancer_data_no2_shuff = cancer_data_no2.sample(frac = 1)\n",
    "cancer_X_no2_shuff = cancer_data_no2_shuff[cancer_data_no2_shuff.columns[:-1]].to_numpy()\n",
    "cancer_y_no2_shuff = cancer_data_no2_shuff[cancer_data_no2_shuff.columns[-1]].to_numpy()\n",
    "\n",
    "# standardise our sample data\n",
    "cancer_X_no2_shuff_std = standardise(cancer_X_no2_shuff)\n",
    "\n",
    "# standardise our test data\n",
    "cancer_X_test_no2_std = standardise(cancer_X_test_no2,cancer_X_no2_shuff)"
   ]
  },
  {
   "cell_type": "markdown",
   "metadata": {
    "id": "4pVdpUHZP-oE"
   },
   "source": [
    "<a name=\"task-221\"></a>\n",
    "\n",
    "### (2.2.1) [(index)](#index-task-221)"
   ]
  },
  {
   "cell_type": "markdown",
   "metadata": {},
   "source": [
    "Define logistic functions"
   ]
  },
  {
   "cell_type": "code",
   "execution_count": 100,
   "metadata": {},
   "outputs": [],
   "source": [
    "def logistic(z):\n",
    "    return 1/(1 + np.exp(-z))\n",
    "\n",
    "def predict_log(X, beta):\n",
    "       \n",
    "    y_log =logistic(X@beta) \n",
    "    return y_log.squeeze()"
   ]
  },
  {
   "cell_type": "markdown",
   "metadata": {},
   "source": [
    "Define a function to initialise the size of the parameters of our model"
   ]
  },
  {
   "cell_type": "code",
   "execution_count": 101,
   "metadata": {},
   "outputs": [],
   "source": [
    "def initialise(size):\n",
    "    \"\"\"    \n",
    "    Argument:\n",
    "    size: Size of the parameter vector beta\n",
    "  \n",
    "    Returns:\n",
    "    beta: Initialised vector of shape (size, 1)\n",
    "    \"\"\"\n",
    "  \n",
    "    beta = np.zeros((size, 1))\n",
    "  \n",
    "    return beta"
   ]
  },
  {
   "cell_type": "markdown",
   "metadata": {},
   "source": [
    "Define a function that returns the Grads and Loss function values to be utilised in Stochastic Gradient Descent"
   ]
  },
  {
   "cell_type": "code",
   "execution_count": 102,
   "metadata": {},
   "outputs": [],
   "source": [
    "def propagate(X, y, beta, lambd):\n",
    "    \"\"\"\n",
    "    Arguments:\n",
    "    X: Data of shape (N, p+1)\n",
    "    y: True label vector of size N\n",
    "    beta: Parameter vector, a numpy array of size p+1\n",
    "\n",
    "    Returns:\n",
    "    mean_loss: Mean sample loss for the negative log-likelihood\n",
    "    dbeta: Gradient of the mean sample loss with respect to beta\n",
    "\n",
    "    \"\"\"\n",
    "    y_log = predict_log(X, beta)\n",
    "\n",
    "    # Mean sample loss function\n",
    "    mean_loss = - np.mean(y * np.log(y_log) + (1-y) * np.log(1-y_log)) + (lambd/2)*np.linalg.norm(beta[1:])**2\n",
    "    \n",
    "\n",
    "    # Derivatives\n",
    "    be = beta.copy()\n",
    "    be[0] = 0\n",
    "    dbeta = np.mean(X.T * (y_log - y), axis=1).reshape(-1,1) + lambd*be\n",
    "\n",
    "\n",
    "    mean_loss = np.squeeze(mean_loss)\n",
    "  \n",
    "    # Store gradients in a dictionary\n",
    "    grads = {'dbeta': dbeta}\n",
    "  \n",
    "    return grads, mean_loss"
   ]
  },
  {
   "cell_type": "markdown",
   "metadata": {},
   "source": [
    "Define a function that optimises our paramenters using Gradient Descent"
   ]
  },
  {
   "cell_type": "code",
   "execution_count": 103,
   "metadata": {},
   "outputs": [],
   "source": [
    "def optimise(X, y, beta, lambd, num_iterations=1000, learning_rate=0.1, print_loss=False):\n",
    "    \"\"\"\n",
    "    Arguments:\n",
    "    X: Data of shape (N, p+1)\n",
    "    y: True label vector of size N\n",
    "    beta: Parameter vector, a numpy array of size p+1\n",
    "    num_iterations: Number of iterations\n",
    "    learning_rate: Step size in updating procedure\n",
    "    print_loss: 'True' to print the mean loss every 100 iterations\n",
    "\n",
    "    Returns:\n",
    "    params: Dictionary containing the parameter vector beta\n",
    "    grads: Dictionary containing the gradient\n",
    "    mean_loss_history: List of all the mean loss values computed during the optimisation (can be used to plot the learning curve)\n",
    "\n",
    "    \"\"\"\n",
    "    mean_loss_history = []\n",
    "    \n",
    "    num_iterations = int(num_iterations)\n",
    "\n",
    "    \n",
    "    for i in range(num_iterations):\n",
    "        \n",
    "        # Calculating the loss and gradients (hint: use your existing functions)\n",
    "        grads, mean_loss = propagate(X,y,beta,lambd)\n",
    "      \n",
    "        # Retrieving derivatives from grads\n",
    "        dbeta = grads['dbeta']\n",
    "      \n",
    "        # Updating procedure\n",
    "        beta = beta - learning_rate * dbeta\n",
    "      \n",
    "        # Record the loss values\n",
    "        if i % 100 == 0:\n",
    "            mean_loss_history.append(mean_loss)\n",
    "      \n",
    "        # Printing the loss every 100 iterations\n",
    "        if print_loss and i % 100 == 0:\n",
    "            print ('Mean loss after iteration %i: %f' %(i, mean_loss))\n",
    "  \n",
    "    # Saving parameters and gradients in dictionary\n",
    "    params = {'beta': beta}\n",
    "    grads = {'dbeta': dbeta}\n",
    "  \n",
    "    return params, grads, mean_loss_history"
   ]
  },
  {
   "cell_type": "markdown",
   "metadata": {},
   "source": [
    "Define a function that predicts the classes of the given data points by inputting the models parameters"
   ]
  },
  {
   "cell_type": "code",
   "execution_count": 104,
   "metadata": {},
   "outputs": [],
   "source": [
    "def predict_lg(X_test, beta):\n",
    "    \"\"\"\n",
    "    Arguments:\n",
    "    X_test: Test set of shape (N_test, p+1)\n",
    "    beta: Parameter vector, a numpy array of size p+1\n",
    "\n",
    "    Returns:\n",
    "    y_pred: Vector containing all binary predictions (0/1) for X_test\n",
    "    \n",
    "    \"\"\"\n",
    "    N_test = X_test.shape[0]\n",
    "    y_pred = np.zeros((N_test, 1))\n",
    "    beta = beta.reshape(X_test.shape[1], 1)\n",
    "  \n",
    "    # Predicting the probabilities\n",
    "    y_log = predict_log(X_test, beta)\n",
    "  \n",
    "    y_pred = y_log.round()\n",
    "  \n",
    "    return y_pred"
   ]
  },
  {
   "cell_type": "markdown",
   "metadata": {},
   "source": [
    "Define a function that generates a model and returns the accuracies of the model when predicting the class of a test set"
   ]
  },
  {
   "cell_type": "code",
   "execution_count": 105,
   "metadata": {},
   "outputs": [],
   "source": [
    "def model(X_train, y_train, X_test, y_test, lambd, num_iterations=2000, learning_rate=0.1, print_loss=False):\n",
    "    # Initialising parameters with zeros\n",
    "    beta = initialise(X_train.shape[1])\n",
    "\n",
    "    # Gradient descent\n",
    "    parameters, grads, mean_loss_history = optimise(X_train, y_train, beta, lambd, num_iterations, learning_rate, print_loss=print_loss)\n",
    "\n",
    "    # Retrieving parameter vector beta from dictionary 'parameters'\n",
    "    beta = parameters['beta']\n",
    "\n",
    "    # Predicting test and training set examples\n",
    "    y_pred_test = predict_lg(X_test, beta)\n",
    "    y_pred_train = predict_lg(X_train, beta)\n",
    "\n",
    "    # Printing train/test accuracy\n",
    "    print('Training accuracy: {} %'.format(100 - np.mean(np.abs(y_pred_train - y_train)) * 100))\n",
    "    print('Test accuracy: {} %'.format(100 - np.mean(np.abs(y_pred_test - y_test)) * 100))\n",
    "\n",
    "    # Saving all the information\n",
    "    d = {'mean_loss_history': mean_loss_history, 'y_pred_test': y_pred_test, 'y_pred_train': y_pred_train, 'beta': beta, 'learning_rate': learning_rate, 'num_iterations': num_iterations}\n",
    "    return d"
   ]
  },
  {
   "cell_type": "markdown",
   "metadata": {},
   "source": [
    "Initialise X_test and X_train with an additional row of ones to allow for Beta0(intercept) to be incorporated into our Matrix equation"
   ]
  },
  {
   "cell_type": "code",
   "execution_count": 106,
   "metadata": {},
   "outputs": [],
   "source": [
    "cancer_X_no2_shuff_std_new = np.hstack((np.ones((cancer_X_no2_shuff_std.shape[0], 1)), cancer_X_no2_shuff_std))\n",
    "cancer_X_test_no2_std_new = np.hstack((np.ones((cancer_X_test_no2_std.shape[0], 1)), cancer_X_test_no2_std))"
   ]
  },
  {
   "cell_type": "code",
   "execution_count": 107,
   "metadata": {},
   "outputs": [
    {
     "name": "stdout",
     "output_type": "stream",
     "text": [
      "Training accuracy: 77.93103448275862 %\n",
      "Test accuracy: 83.33333333333334 %\n"
     ]
    }
   ],
   "source": [
    "# Running the model\n",
    "d = model(cancer_X_no2_shuff_std_new, cancer_y_no2_shuff , cancer_X_test_no2_std_new, cancer_y_test_no2, 0.0025, num_iterations=2000, learning_rate=0.1, print_loss=False)"
   ]
  },
  {
   "cell_type": "markdown",
   "metadata": {},
   "source": [
    "Define a function that gives the Precision, Recall and Area under the curve "
   ]
  },
  {
   "cell_type": "code",
   "execution_count": 108,
   "metadata": {},
   "outputs": [],
   "source": [
    "def prc_curve(y_true, y_log):\n",
    "    \"\"\"\n",
    "    Arguments:\n",
    "    y_true: Ground truth labels with size N\n",
    "    y_log: Probabilities produced by logistic regression model with size N\n",
    "  \n",
    "    Returns:\n",
    "    auc: Area Under the Curve (AUC)\n",
    "    tpr_l: List of true positive rate (TPR) values for each scanned threshold\n",
    "    fpr_l: List of false positive rate (FPR) values for each scanned threshold\n",
    "    thresholds: Scanned thresholds sorted in decreasing order\n",
    "    \n",
    "    \"\"\"\n",
    "    # List of distinct values in y_log, sorted sorted in decreasing order\n",
    "    thresholds = reversed(sorted(set(y_log)))\n",
    "    recall_l, precision_l = [], []\n",
    "\n",
    "    for threshold in thresholds:\n",
    "        # Thresholding\n",
    "        y_thresholded = (y_log >= threshold)\n",
    "\n",
    "        # True positives\n",
    "        tp = np.sum(y_true & y_thresholded)\n",
    "        # True negatives\n",
    "        tn = np.sum((~y_true) & (~y_thresholded))\n",
    "        # False positives\n",
    "        fp = np.sum((~y_true) & y_thresholded)\n",
    "        # False negatives\n",
    "        fn = np.sum(y_true & (~y_thresholded))\n",
    "\n",
    "\n",
    "        recall = tp / (tp + fn)\n",
    "        precision = tp / (tp + fp) \n",
    "        recall_l.append(recall)\n",
    "        precision_l.append(precision)\n",
    "\n",
    "    # Compute AUC using Trapezoidal rule\n",
    "    auc = np.trapz(precision_l, recall_l)\n",
    "    return auc, precision_l, recall_l, thresholds"
   ]
  },
  {
   "cell_type": "markdown",
   "metadata": {},
   "source": [
    "Plot the area under the Precision Recall Curve"
   ]
  },
  {
   "cell_type": "code",
   "execution_count": 109,
   "metadata": {},
   "outputs": [
    {
     "data": {
      "image/png": "[encoded data removed]",
      "text/plain": [
       "<Figure size 864x576 with 1 Axes>"
      ]
     },
     "metadata": {
      "needs_background": "light"
     },
     "output_type": "display_data"
    },
    {
     "name": "stdout",
     "output_type": "stream",
     "text": [
      "0.8602991324239321\n"
     ]
    }
   ],
   "source": [
    "y_log = predict_log(cancer_X_test_no2_std_new, d['beta'])\n",
    "auc, precision, recall, th = prc_curve(cancer_y_test_no2, y_log)\n",
    "\n",
    "plt.figure(figsize=(12,8))\n",
    "plt.xlim([0, 1])\n",
    "plt.ylim([0, 1])\n",
    "plt.plot(recall, precision, 'b', label=f'AUC = {auc:0.2f}')\n",
    "plt.plot([1, 0], [0, 1], 'r--', label='Identity function')\n",
    "plt.xlabel('recall')\n",
    "plt.ylabel('precision')\n",
    "plt.title(f'Precision-Recall Curve (AUC = {auc:0.2f})')\n",
    "plt.legend(loc='lower right')\n",
    "plt.show()\n",
    "\n",
    "print(auc)"
   ]
  },
  {
   "cell_type": "markdown",
   "metadata": {},
   "source": [
    "Precision refers to a models ability to truly predict a positive, which is to say how often a predicted positive is a true positive. Meanwhile recall is a models ability to detect a positive value. We note that a high precision and recall is particularily useful when working with imbalanced data as it allows one to mre confidently guarantee that any instances of a predicted minority class are true positive predictions. This is useful for our data set due to approximately 30% of the data having class 0 and approximately 70% of the data having class 1. \n",
    "\n",
    "It is also worth noting that our model also exhibits relatively high training and testing set prediction accuracies.\n",
    "\n",
    "Our model exhibits a good AUC score of 0.86 suggesting an ability to fairly accurately predict true values truthfully.\n",
    "\n"
   ]
  },
  {
   "cell_type": "markdown",
   "metadata": {
    "id": "e_MkiUD4QB0k"
   },
   "source": [
    "<a name=\"task-222\"></a>\n",
    "\n",
    "### (2.2.2) [(index)](#index-task-222)"
   ]
  },
  {
   "cell_type": "markdown",
   "metadata": {},
   "source": []
  },
  {
   "cell_type": "markdown",
   "metadata": {},
   "source": [
    "The kernalised Loss function is\n",
    "$$\n",
    "- \\frac{1}{N}\\sum_i(y_i ln(y_{pred,i}) + (1-y_i) ln(1 - y_{pred,i}))+\\frac{1}{2}\\ \\lambda\\ u^T K u\n",
    "$$\n",
    "where $y_{pred}=\\frac{1}{1+e^{-(K^{(i)} u+\\beta_0)}}$ with $K^{i}$ i-th row of $k$ \n",
    "\n",
    "\n",
    "To prove this is a convex optimisation problem it suffices to prove that the cost function is Convex. We may split the loss function into parts by noting that the sum of convex functions is convex. We will also use the property that the composition of a strictly non-decreasing convex function onto a convex function is convex.\n",
    "\n",
    "We first consider the term: $\\frac{\\lambda}{2}u^TKu^T$.\n",
    "\n",
    "A kernel by definition is semi-positive definite and any quadratic of the above form is convex iff K is semi positive definite (As $\\lambda >0$). Thus we have  that $\\frac{\\lambda}{2}u^TKu^T$ is convex.\n",
    "\n",
    "For the second part of the loss function it suffices to prove the following expressions are convex functions: $f_1(z) = -\\log(\\sigma(z))$, $f_1(z) = -\\log(\\sigma(z))$ where $\\sigma(z) = 1/(1+\\exp(-z))$ is the logistic function and z is some linear function.\n",
    "\n",
    "Any linear function is convex and the logistic function is a strictly non-decreasing convex function.  From the above stated properties it suffices to show that $f_1(z)$ and $f_2(z)$ are monotonically increasing convex functions.\n",
    "\n",
    "As $\\frac{d}{dz} f_1(z) = -\\exp(-z)/(1+\\exp(-z)) = -1 + 1/(1+exp(-z)) = -1 + \\sigma(z)$, which is monotonically increasing,  $f_1(z)$ is convex.\n",
    "\n",
    "Since $f2(z)=f1(z)+z$ we have $f2(z)=−log(exp(−z)/(1+exp(−z)))=log(1+exp(−z))+z=f1(z)+z$, which is monotonically increasing, $f_1(z)$ is convex.\n",
    "\n",
    "Thus completing our proof.\n",
    " \n",
    "\n",
    " \n"
   ]
  },
  {
   "cell_type": "markdown",
   "metadata": {
    "id": "DzUYT08xQDV9"
   },
   "source": [
    "<a name=\"task-223\"></a>\n",
    "\n",
    "### (2.2.3) [(index)](#index-task-223)"
   ]
  },
  {
   "cell_type": "markdown",
   "metadata": {},
   "source": [
    "Define the Kernel Matrix"
   ]
  },
  {
   "cell_type": "code",
   "execution_count": 110,
   "metadata": {},
   "outputs": [],
   "source": [
    "def kernel_m(X1,X2,alpha):\n",
    "\n",
    "    n1,m1 = X1.shape\n",
    "    n2,m2 = X2.shape\n",
    "    kernel = np.zeros((n1,n2))\n",
    "\n",
    "    for i in range(n1):\n",
    "        exponent = np.sum(np.abs(X2 - X1[i]), axis=1)\n",
    "        kernel[i,:] = np.exp(-alpha*exponent)\n",
    "\n",
    "    return kernel"
   ]
  },
  {
   "cell_type": "markdown",
   "metadata": {},
   "source": [
    "Define a function that calls the logistic function when inputted with the appropriate values"
   ]
  },
  {
   "cell_type": "code",
   "execution_count": 111,
   "metadata": {},
   "outputs": [],
   "source": [
    "def logistic_inter(K, u, intercept):\n",
    "    ker_log = logistic(K@u + intercept)\n",
    "    return ker_log.squeeze()"
   ]
  },
  {
   "cell_type": "markdown",
   "metadata": {},
   "source": [
    "Define a function that computes the Cost."
   ]
  },
  {
   "cell_type": "code",
   "execution_count": 112,
   "metadata": {},
   "outputs": [],
   "source": [
    "def compute_cost_kernel(u, Kernel, y, lambd, intercept=0):\n",
    "\n",
    "    ker_log = logistic_inter(Kernel,u, intercept)\n",
    "    \n",
    "    cost = (- np.mean(y * np.log(ker_log)) + (1-y) * np.log(1-ker_log) + (lambd/2)*u.T@Kernel@u).squeeze()\n",
    " \n",
    "    return cost"
   ]
  },
  {
   "cell_type": "markdown",
   "metadata": {},
   "source": [
    "Define a function that computes the Grad of the cost with respect to our model parameters"
   ]
  },
  {
   "cell_type": "code",
   "execution_count": 113,
   "metadata": {},
   "outputs": [],
   "source": [
    "def calculate_cost_gradient_kernel(u, Kernel, y, lambd, intercept=0):\n",
    "\n",
    "    # if only one example is passed\n",
    "    if type(y) == np.float64 or type(y) == np.int32:\n",
    "        y = np.asarray([y])\n",
    "        Kernel = np.asarray([Kernel])  # returns a multidimensional array to avoid errors in future steps\n",
    "\n",
    "    ker_log =  logistic_inter(Kernel,u, intercept)\n",
    "    \n",
    "    di = np.mean(ker_log - y)\n",
    "    \n",
    "    du = np.mean(Kernel.T * (ker_log - y), axis=1).reshape(-1, 1) + lambd * Kernel@u\n",
    "\n",
    "    return du.reshape(-1,1), di"
   ]
  },
  {
   "cell_type": "markdown",
   "metadata": {},
   "source": [
    "Define a function that returns the Grads and Loss function values to be utilised in Stochastic Gradient Descent"
   ]
  },
  {
   "cell_type": "code",
   "execution_count": 114,
   "metadata": {},
   "outputs": [],
   "source": [
    "def propagate_kernel(kernel, y, u, lambd, intercept=0):\n",
    "    \"\"\"\n",
    "    Arguments:\n",
    "    X: Data of shape (N, p+1)\n",
    "    y: True label vector of size N\n",
    "    beta: Parameter vector, a numpy array of size p+1\n",
    "\n",
    "    Returns:\n",
    "    mean_loss: Mean sample loss for the negative log-likelihood\n",
    "    dbeta: Gradient of the mean sample loss with respect to beta\n",
    "\n",
    "    \"\"\"\n",
    "    y_log = logistic_inter(kernel, u, intercept)\n",
    "\n",
    "    # Mean sample loss function\n",
    "    mean_loss = compute_cost_kernel(u, kernel, y, lambd, intercept)\n",
    "    \n",
    "\n",
    "    # Derivatives\n",
    "    du,di = calculate_cost_gradient_kernel(u, kernel, y, lambd, intercept)\n",
    "\n",
    "    mean_loss = np.squeeze(mean_loss)\n",
    "  \n",
    "    # Store gradients in a dictionary\n",
    "    grads = {'du': du, 'di' : di}\n",
    "  \n",
    "    return grads, mean_loss"
   ]
  },
  {
   "cell_type": "markdown",
   "metadata": {},
   "source": [
    "Define a function that optimises our paramenters using Gradient Descent"
   ]
  },
  {
   "cell_type": "code",
   "execution_count": 115,
   "metadata": {},
   "outputs": [],
   "source": [
    "def optimise_kernel(kernel, y, u, lambd, intercept=0, num_iterations=1000, learning_rate=0.1, print_loss=False):\n",
    "    \"\"\"\n",
    "    Arguments:\n",
    "    X: Data of shape (N, p+1)\n",
    "    y: True label vector of size N\n",
    "    beta: Parameter vector, a numpy array of size p+1\n",
    "    num_iterations: Number of iterations\n",
    "    learning_rate: Step size in updating procedure\n",
    "    print_loss: 'True' to print the mean loss every 100 iterations\n",
    "\n",
    "    Returns:\n",
    "    params: Dictionary containing the parameter vector beta\n",
    "    grads: Dictionary containing the gradient\n",
    "    mean_loss_history: List of all the mean loss values computed during the optimisation (can be used to plot the learning curve)\n",
    "\n",
    "    \"\"\"\n",
    "    mean_loss_history = []\n",
    "    \n",
    "    num_iterations = int(num_iterations)\n",
    "\n",
    "    \n",
    "    for i in range(num_iterations):\n",
    "        \n",
    "        # Calculating the loss and gradients (hint: use your existing functions)\n",
    "        grads, mean_loss = propagate_kernel(kernel, y, u, lambd, intercept)\n",
    "      \n",
    "        # Retrieving derivatives from grads\n",
    "        du = grads['du']\n",
    "        di = grads['di']\n",
    "      \n",
    "        # Updating procedure\n",
    "        u -= learning_rate * du\n",
    "        intercept -=  learning_rate * di\n",
    "      \n",
    "        # Record the loss values\n",
    "        if i % 100 == 0:\n",
    "            mean_loss_history.append(mean_loss)\n",
    "      \n",
    "        # Printing the loss every 100 iterations\n",
    "        if print_loss and i % 100 == 0:\n",
    "            print ('Mean loss after iteration %i: %f' %(i, mean_loss))\n",
    "  \n",
    "    # Saving parameters and gradients in dictionary\n",
    "    params = {'u': u, 'intercept':intercept}\n",
    "    grads = {'du': du, 'di' : di}\n",
    "  \n",
    "    return params, grads, mean_loss_history"
   ]
  },
  {
   "cell_type": "markdown",
   "metadata": {},
   "source": [
    "Define a function that optimises our paramenters using Gradient Descent"
   ]
  },
  {
   "cell_type": "code",
   "execution_count": 116,
   "metadata": {},
   "outputs": [],
   "source": [
    "def predict_lg_kernel(kernel, u,intercept):\n",
    "    \"\"\"\n",
    "    Arguments:\n",
    "    X_test: Test set of shape (N_test, p+1)\n",
    "    beta: Parameter vector, a numpy array of size p+1\n",
    "\n",
    "    Returns:\n",
    "    y_pred: Vector containing all binary predictions (0/1) for X_test\n",
    "    \n",
    "    \"\"\"\n",
    "    N_test =kernel.shape[0]\n",
    "    y_pred = np.zeros((N_test, 1))\n",
    "    u = u.reshape(kernel.shape[1], 1)\n",
    "    #intercept = intercept.reshape(kernel.shape[0], 1)\n",
    "  \n",
    "    # Predicting the probabilities\n",
    "    y_log = logistic_inter(kernel , u, intercept)\n",
    "  \n",
    "    y_pred = y_log.round().reshape(-1,1)\n",
    "  \n",
    "    return y_pred"
   ]
  },
  {
   "cell_type": "markdown",
   "metadata": {},
   "source": [
    "Define a function that generates a model and returns the accuracies of the model when predicting the class of a test set"
   ]
  },
  {
   "cell_type": "code",
   "execution_count": 117,
   "metadata": {},
   "outputs": [],
   "source": [
    "def model_kernel(X_train, y_train, X_test, y_test, lambd, alpha, num_iterations=2000, learning_rate=0.1, print_loss=False):\n",
    "    # Initialising parameters with zeros\n",
    "    u = initialise(X_train.shape[0])\n",
    "    intercept = 0\n",
    "\n",
    "    kernel1 = kernel_m(X_train,X_train,alpha)\n",
    "    kernel2 = kernel_m(X_test, X_train,alpha)\n",
    "\n",
    "\n",
    "    # Gradient descent\n",
    "    parameters, grads, mean_loss_history = optimise_kernel(kernel1, y_train, u, lambd, intercept, num_iterations, learning_rate, print_loss=print_loss)\n",
    "\n",
    "    # Retrieving parameter vector beta from dictionary 'parameters'\n",
    "    u = parameters['u']\n",
    "    intercept = parameters['intercept']\n",
    "\n",
    "    # # Predicting test and training set examples\n",
    "    y_pred_test = predict_lg_kernel(kernel2, u, intercept).round().reshape(1, -1)\n",
    "    y_pred_train = predict_lg_kernel(kernel1, u, intercept).round().reshape(1, -1)\n",
    "\n",
    "    # Printing train/test accuracy\n",
    "    print('Training accuracy: {} %'.format(100 - np.mean(np.abs(y_pred_train - y_train)) * 100))\n",
    "    print('Test accuracy: {} %'.format(100 - np.mean(np.abs(y_pred_test - y_test)) * 100))\n",
    "\n",
    "    # Saving all the information\n",
    "    d = {'mean_loss_history': mean_loss_history, 'y_pred_test': y_pred_test, 'y_pred_train': y_pred_train, 'u': u, 'learning_rate': learning_rate,'intercept': intercept,'kernel1' : kernel1, 'kernel2' : kernel2, 'num_iterations': num_iterations}\n",
    "    return d"
   ]
  },
  {
   "cell_type": "code",
   "execution_count": 118,
   "metadata": {},
   "outputs": [
    {
     "name": "stdout",
     "output_type": "stream",
     "text": [
      "Training accuracy: 86.89655172413794 %\n",
      "Test accuracy: 80.0 %\n"
     ]
    }
   ],
   "source": [
    "e = model_kernel(cancer_X_no2_shuff_std, cancer_y_no2_shuff , cancer_X_test_no2_std, cancer_y_test_no2, 0.0025, 0.3, num_iterations=2000, learning_rate=0.1, print_loss=False)"
   ]
  },
  {
   "cell_type": "code",
   "execution_count": 119,
   "metadata": {},
   "outputs": [
    {
     "name": "stdout",
     "output_type": "stream",
     "text": [
      "Training accuracy: 68.9655172413793 %\n",
      "Test accuracy: 70.0 %\n"
     ]
    }
   ],
   "source": [
    "f = model_kernel(cancer_X_no2_shuff_std, cancer_y_no2_shuff , cancer_X_test_no2_std, cancer_y_test_no2, 0.0025, 100, num_iterations=2000, learning_rate=0.1, print_loss=False)"
   ]
  },
  {
   "cell_type": "markdown",
   "metadata": {},
   "source": [
    "Plot the area under the Precision Recall Curve"
   ]
  },
  {
   "cell_type": "code",
   "execution_count": 120,
   "metadata": {},
   "outputs": [
    {
     "data": {
      "image/png": "[encoded data removed]",
      "text/plain": [
       "<Figure size 864x576 with 1 Axes>"
      ]
     },
     "metadata": {
      "needs_background": "light"
     },
     "output_type": "display_data"
    }
   ],
   "source": [
    "ker_log = logistic_inter(e['kernel2'], e['u'], e['intercept'])\n",
    "auc, precision, recall, th = prc_curve(cancer_y_test_no2, ker_log)\n",
    "\n",
    "ker_log2 = logistic_inter(f['kernel2'], f['u'], f['intercept'])\n",
    "auc2, precision2, recall2, th2 = prc_curve(cancer_y_test_no2, ker_log2)\n",
    "\n",
    "plt.figure(figsize=(12,8))\n",
    "plt.xlim([0, 1])\n",
    "plt.ylim([0, 1])\n",
    "plt.plot(recall, precision, 'b', label=f'AUC = {auc:0.2f}, alpha = 0.3')\n",
    "plt.plot(recall2, precision2, 'r', label=f'AUC = {auc2:0.2f}, alpha = 100')\n",
    "plt.plot([1, 0], [0, 1], 'r--', label='Identity function')\n",
    "plt.xlabel('recall')\n",
    "plt.ylabel('precision')\n",
    "plt.title(f'Precision-Recall Curve (AUC = {auc:0.2f})')\n",
    "plt.legend(loc='lower right')\n",
    "plt.show()"
   ]
  },
  {
   "cell_type": "markdown",
   "metadata": {},
   "source": [
    "We are particularly interested in the shape of the precision-recall curve of our models as it tells us how our model trades how often we predict a true positive for how often we detect a positive value from the training data.\n",
    "\n",
    "Comparing our two precision-recall curves we are quick to notice how the alpha = 0.3 case exhibits behavior similar to the precision recoil curve without utilising the kernel(as evident by the shapes of the curves). In particular we appear to observe perfect precision at low values of recall and then progressively decreasing Precision values as recall increases. \n",
    "\n",
    "However our alpha = 100 exhibits a sharp decrease in precision at low values of recall suggesting that we are trading the ability to predict true positives the majority of the time for a minimal increase in the ability to predict a true value when in appears. However it is worth noting that for high Recall values our alpha = 100 and alpha = 0.3 models have similar precision values.\n",
    "\n",
    "Although both AUC values may be considered good, the alpha = 0.3 model exhibits the best AUC value out of all 3 plotted models with the difference between the alpha = 0.3 model and the alpha = 100 models being relatively significant in terms of the difference in AUC.\n",
    "\n",
    "This would lead us to believe that our alpha = 0.3 kernelised model is the best out of the three presented.\n",
    "\n"
   ]
  }
 ],
 "metadata": {
  "colab": {
   "provenance": [],
   "toc_visible": true
  },
  "kernelspec": {
   "display_name": "Python 3 (ipykernel)",
   "language": "python",
   "name": "python3"
  },
  "language_info": {
   "codemirror_mode": {
    "name": "ipython",
    "version": 3
   },
   "file_extension": ".py",
   "mimetype": "text/x-python",
   "name": "python",
   "nbconvert_exporter": "python",
   "pygments_lexer": "ipython3",
   "version": "3.9.12"
  }
 },
 "nbformat": 4,
 "nbformat_minor": 4
}
